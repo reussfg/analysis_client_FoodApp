{
 "cells": [
  {
   "cell_type": "markdown",
   "metadata": {},
   "source": [
    "# Introdução ao projeto\n",
    "\n",
    "Como parte de nossas funções em uma startup que vende produtos alimentícios, fomos encarregados de analisar o comportamento dos usuários no aplicativo da empresa. Nosso foco inicial é estudar o funil de vendas e entender como os usuários avançam até a etapa de compra. Quantos usuários realmente chegam a essa etapa? Quantos ficam presos em fases anteriores e quais são essas etapas específicas?\n",
    "\n",
    "Em seguida, iremos examinar os resultados de um teste A/A/B. (Continue lendo para obter mais informações sobre testes A/A/B.) Nossos designers gostariam de alterar as fontes em todo o aplicativo, mas nossos gerentes estão preocupados que os usuários possam achar o novo design intimidador. Para tomar a decisão, decidimos confiar nos resultados de um teste A/A/B.\n",
    "\n",
    "Dividimos os usuários em três grupos: dois grupos de controle receberão as fontes antigas e um grupo de teste receberá as novas. Nossa tarefa é determinar qual conjunto de fontes produz melhores resultados.\n",
    "\n",
    "A criação de dois grupos de controle possui certas vantagens. Podemos estabelecer o princípio de que só teremos confiança na precisão de nossos testes quando os dois grupos de controle forem semelhantes. Se houver diferenças significativas entre os grupos de controle, isso pode nos ajudar a identificar fatores que podem distorcer os resultados. Além disso, a comparação entre os grupos de controle nos informa sobre o tempo e a quantidade de dados necessários ao conduzir testes futuros.\n",
    "\n",
    "Para nossa análise, utilizaremos o mesmo conjunto de dados tanto para a análise geral quanto para a análise A/A/B. Em projetos reais, realizamos experimentos constantemente, e nossos analistas estudam a qualidade de um aplicativo usando dados gerais, sem focar na participação dos usuários nos experimentos."
   ]
  },
  {
   "cell_type": "markdown",
   "metadata": {},
   "source": [
    "# Step a Step do Projeto\n",
    "\n",
    "Neste projeto, iremos mergulhar profundamente nos dados de comportamento do usuário de uma startup que vende produtos alimentícios. O nosso principal objetivo é entender como os usuários interagem com o aplicativo da empresa e, especificamente, como eles navegam pelo funil de vendas.\n",
    "\n",
    "Em primeiro lugar, iremos analisar o funil de vendas para descobrir a jornada que os usuários percorrem até chegar ao ponto de compra. Quantos usuários chegam ao estágio final de compra? Quantos ficam retidos em fases anteriores do funil? Que estágios, em particular, parecem ser os gargalos no processo?\n",
    "\n",
    "Em segundo lugar, avaliaremos os resultados de um teste A/A/B projetado para informar decisões de design do aplicativo. A equipe de design está considerando uma mudança de fontes em todo o aplicativo, mas há preocupações de que a nova fonte possa ser intimidante para os usuários. Para tomar uma decisão fundamentada, decidimos testar a nova fonte com um grupo de teste, enquanto dois grupos de controle continuam a ver as fontes antigas. Compararemos os resultados para determinar qual conjunto de fontes leva a melhores resultados.\n",
    "\n",
    "\n",
    "**Descrição dos Dados**\n",
    "\n",
    "Os dados que iremos analisar vêm na forma de um registro de eventos do usuário, com cada entrada correspondendo a uma ação ou evento específico. Os dados contêm as seguintes colunas:\n",
    "\n",
    "* EventName — Nome do evento.\n",
    "* DeviceIDHash — Identificador de usuário único.\n",
    "* EventTimestamp — Hora do evento.\n",
    "* ExpId — Número do experimento: 246 e 247 são os grupos de controle, 248 é o grupo de teste.\n",
    "\n",
    "\n",
    "**Plano do Projeto**\n",
    "\n",
    "A análise será realizada nas seguintes etapas:\n",
    "\n",
    "Passo 1: Abrir e entender os dados\n",
    "\n",
    "Passo 2: Preparar os dados para análise, incluindo renomeação de colunas, tratamento de valores ausentes e adição de colunas de data e hora.\n",
    "\n",
    "Passo 3: Análise exploratória dos dados para entender a distribuição de eventos e usuários e o período de tempo coberto pelos dados.\n",
    "\n",
    "Passo 4: Estudar o funil de eventos para entender a jornada do usuário através do aplicativo e identificar pontos de atrito potenciais.\n",
    "\n",
    "Passo 5: Avaliar os resultados do teste A/A/B para determinar se uma mudança na fonte levaria a uma melhor interação do usuário.\n",
    "\n",
    "Os resultados desta análise serão usados para informar as decisões estratégicas sobre o design do aplicativo e a experiência geral do usuário."
   ]
  },
  {
   "cell_type": "markdown",
   "metadata": {},
   "source": [
    "## Importação dos nossos dados e carregamento das bases\n",
    "\n",
    "Iremos carregar as bibliotecas que iremos usar para gerar as análises e gráficos.\n",
    "\n",
    "Iremos explicar cada um dos usos das bibliotecas:\n",
    "\n",
    "pandas --> análise de dados;\n",
    "numpy --> geração de gráficos e auxílio ao pandas;\n",
    "matplotlib.pyplot --> geração de gráficos\n",
    "Após isso iremos abrir nossos dados em diferentes seções e analisar a qualidade das bases e realizar as correções devidas em cada uma das seções como pré-análise de dados e processamento de base."
   ]
  },
  {
   "cell_type": "code",
   "execution_count": 329,
   "metadata": {},
   "outputs": [],
   "source": [
    "# Carregando nossas bibliotecas\n",
    "\n",
    "import pandas as pd\n",
    "import numpy as np\n",
    "import matplotlib.pyplot as plt\n",
    "import seaborn as sns\n",
    "from statsmodels.stats.proportion import proportions_ztest"
   ]
  },
  {
   "cell_type": "markdown",
   "metadata": {},
   "source": [
    "## Base visits_log_us.csv e carregamento de dados\n",
    "\n",
    "Como observado anteriormente iremos abrir a base de dados logs_exp_us.csv realizando uma pré-análise de dados, processamento do dado e possível limpeza, indicando os erros e as mudanças."
   ]
  },
  {
   "cell_type": "code",
   "execution_count": 330,
   "metadata": {},
   "outputs": [],
   "source": [
    "# abrindo a tabela logs_exp_us.csv\n",
    "\n",
    "# Carregando dados no computador pessoal\n",
    "try:\n",
    "    df = pd.read_csv(r'/Downloads/logs_exp_us.csv', sep = '\\t')\n",
    "    \n",
    "# Carregando dados no JupyterHub\n",
    "except:\n",
    "    df = pd.read_csv(r'/datasets/logs_exp_us.csv', sep = '\\t')"
   ]
  },
  {
   "cell_type": "code",
   "execution_count": 331,
   "metadata": {},
   "outputs": [
    {
     "data": {
      "text/html": [
       "<div>\n",
       "<style scoped>\n",
       "    .dataframe tbody tr th:only-of-type {\n",
       "        vertical-align: middle;\n",
       "    }\n",
       "\n",
       "    .dataframe tbody tr th {\n",
       "        vertical-align: top;\n",
       "    }\n",
       "\n",
       "    .dataframe thead th {\n",
       "        text-align: right;\n",
       "    }\n",
       "</style>\n",
       "<table border=\"1\" class=\"dataframe\">\n",
       "  <thead>\n",
       "    <tr style=\"text-align: right;\">\n",
       "      <th></th>\n",
       "      <th>EventName</th>\n",
       "      <th>DeviceIDHash</th>\n",
       "      <th>EventTimestamp</th>\n",
       "      <th>ExpId</th>\n",
       "    </tr>\n",
       "  </thead>\n",
       "  <tbody>\n",
       "    <tr>\n",
       "      <th>0</th>\n",
       "      <td>MainScreenAppear</td>\n",
       "      <td>4575588528974610257</td>\n",
       "      <td>1564029816</td>\n",
       "      <td>246</td>\n",
       "    </tr>\n",
       "    <tr>\n",
       "      <th>1</th>\n",
       "      <td>MainScreenAppear</td>\n",
       "      <td>7416695313311560658</td>\n",
       "      <td>1564053102</td>\n",
       "      <td>246</td>\n",
       "    </tr>\n",
       "    <tr>\n",
       "      <th>2</th>\n",
       "      <td>PaymentScreenSuccessful</td>\n",
       "      <td>3518123091307005509</td>\n",
       "      <td>1564054127</td>\n",
       "      <td>248</td>\n",
       "    </tr>\n",
       "    <tr>\n",
       "      <th>3</th>\n",
       "      <td>CartScreenAppear</td>\n",
       "      <td>3518123091307005509</td>\n",
       "      <td>1564054127</td>\n",
       "      <td>248</td>\n",
       "    </tr>\n",
       "    <tr>\n",
       "      <th>4</th>\n",
       "      <td>PaymentScreenSuccessful</td>\n",
       "      <td>6217807653094995999</td>\n",
       "      <td>1564055322</td>\n",
       "      <td>248</td>\n",
       "    </tr>\n",
       "  </tbody>\n",
       "</table>\n",
       "</div>"
      ],
      "text/plain": [
       "                 EventName         DeviceIDHash  EventTimestamp  ExpId\n",
       "0         MainScreenAppear  4575588528974610257      1564029816    246\n",
       "1         MainScreenAppear  7416695313311560658      1564053102    246\n",
       "2  PaymentScreenSuccessful  3518123091307005509      1564054127    248\n",
       "3         CartScreenAppear  3518123091307005509      1564054127    248\n",
       "4  PaymentScreenSuccessful  6217807653094995999      1564055322    248"
      ]
     },
     "execution_count": 331,
     "metadata": {},
     "output_type": "execute_result"
    }
   ],
   "source": [
    "# mostrando a df \n",
    "df_visits.head(5)"
   ]
  },
  {
   "cell_type": "code",
   "execution_count": 332,
   "metadata": {},
   "outputs": [
    {
     "name": "stdout",
     "output_type": "stream",
     "text": [
      "<class 'pandas.core.frame.DataFrame'>\n",
      "RangeIndex: 244126 entries, 0 to 244125\n",
      "Data columns (total 4 columns):\n",
      " #   Column          Non-Null Count   Dtype \n",
      "---  ------          --------------   ----- \n",
      " 0   EventName       244126 non-null  object\n",
      " 1   DeviceIDHash    244126 non-null  int64 \n",
      " 2   EventTimestamp  244126 non-null  int64 \n",
      " 3   ExpId           244126 non-null  int64 \n",
      "dtypes: int64(3), object(1)\n",
      "memory usage: 7.5+ MB\n"
     ]
    }
   ],
   "source": [
    "# informações gerais da df\n",
    "df.info()"
   ]
  },
  {
   "cell_type": "markdown",
   "metadata": {},
   "source": [
    "**Conclusão Intermediária**\n",
    "\n",
    "Nossos dados estão formatados com algumas observações, sendo:\n",
    "\n",
    "* As colunas estão em CamelCase e não snake_case. Iremos alterar\n",
    "* Aparentemente não existem valores nulos. Iremos analisar cada coluna para entender os valores únicos.\n",
    "* Iremos renomear as colunas para melhor entendimento das mesmas.\n",
    "* Vamos analisar por duplicatas implicitas.\n",
    "* Precisamos alterar a coluna EventTimestamp para o formato de Data."
   ]
  },
  {
   "cell_type": "code",
   "execution_count": 333,
   "metadata": {},
   "outputs": [
    {
     "data": {
      "text/html": [
       "<div>\n",
       "<style scoped>\n",
       "    .dataframe tbody tr th:only-of-type {\n",
       "        vertical-align: middle;\n",
       "    }\n",
       "\n",
       "    .dataframe tbody tr th {\n",
       "        vertical-align: top;\n",
       "    }\n",
       "\n",
       "    .dataframe thead th {\n",
       "        text-align: right;\n",
       "    }\n",
       "</style>\n",
       "<table border=\"1\" class=\"dataframe\">\n",
       "  <thead>\n",
       "    <tr style=\"text-align: right;\">\n",
       "      <th></th>\n",
       "      <th>nome_evento</th>\n",
       "      <th>id_unico</th>\n",
       "      <th>hora</th>\n",
       "      <th>num_exp</th>\n",
       "    </tr>\n",
       "  </thead>\n",
       "  <tbody>\n",
       "    <tr>\n",
       "      <th>0</th>\n",
       "      <td>MainScreenAppear</td>\n",
       "      <td>4575588528974610257</td>\n",
       "      <td>1564029816</td>\n",
       "      <td>246</td>\n",
       "    </tr>\n",
       "    <tr>\n",
       "      <th>1</th>\n",
       "      <td>MainScreenAppear</td>\n",
       "      <td>7416695313311560658</td>\n",
       "      <td>1564053102</td>\n",
       "      <td>246</td>\n",
       "    </tr>\n",
       "    <tr>\n",
       "      <th>2</th>\n",
       "      <td>PaymentScreenSuccessful</td>\n",
       "      <td>3518123091307005509</td>\n",
       "      <td>1564054127</td>\n",
       "      <td>248</td>\n",
       "    </tr>\n",
       "    <tr>\n",
       "      <th>3</th>\n",
       "      <td>CartScreenAppear</td>\n",
       "      <td>3518123091307005509</td>\n",
       "      <td>1564054127</td>\n",
       "      <td>248</td>\n",
       "    </tr>\n",
       "    <tr>\n",
       "      <th>4</th>\n",
       "      <td>PaymentScreenSuccessful</td>\n",
       "      <td>6217807653094995999</td>\n",
       "      <td>1564055322</td>\n",
       "      <td>248</td>\n",
       "    </tr>\n",
       "    <tr>\n",
       "      <th>...</th>\n",
       "      <td>...</td>\n",
       "      <td>...</td>\n",
       "      <td>...</td>\n",
       "      <td>...</td>\n",
       "    </tr>\n",
       "    <tr>\n",
       "      <th>244121</th>\n",
       "      <td>MainScreenAppear</td>\n",
       "      <td>4599628364049201812</td>\n",
       "      <td>1565212345</td>\n",
       "      <td>247</td>\n",
       "    </tr>\n",
       "    <tr>\n",
       "      <th>244122</th>\n",
       "      <td>MainScreenAppear</td>\n",
       "      <td>5849806612437486590</td>\n",
       "      <td>1565212439</td>\n",
       "      <td>246</td>\n",
       "    </tr>\n",
       "    <tr>\n",
       "      <th>244123</th>\n",
       "      <td>MainScreenAppear</td>\n",
       "      <td>5746969938801999050</td>\n",
       "      <td>1565212483</td>\n",
       "      <td>246</td>\n",
       "    </tr>\n",
       "    <tr>\n",
       "      <th>244124</th>\n",
       "      <td>MainScreenAppear</td>\n",
       "      <td>5746969938801999050</td>\n",
       "      <td>1565212498</td>\n",
       "      <td>246</td>\n",
       "    </tr>\n",
       "    <tr>\n",
       "      <th>244125</th>\n",
       "      <td>OffersScreenAppear</td>\n",
       "      <td>5746969938801999050</td>\n",
       "      <td>1565212517</td>\n",
       "      <td>246</td>\n",
       "    </tr>\n",
       "  </tbody>\n",
       "</table>\n",
       "<p>244126 rows × 4 columns</p>\n",
       "</div>"
      ],
      "text/plain": [
       "                    nome_evento             id_unico        hora  num_exp\n",
       "0              MainScreenAppear  4575588528974610257  1564029816      246\n",
       "1              MainScreenAppear  7416695313311560658  1564053102      246\n",
       "2       PaymentScreenSuccessful  3518123091307005509  1564054127      248\n",
       "3              CartScreenAppear  3518123091307005509  1564054127      248\n",
       "4       PaymentScreenSuccessful  6217807653094995999  1564055322      248\n",
       "...                         ...                  ...         ...      ...\n",
       "244121         MainScreenAppear  4599628364049201812  1565212345      247\n",
       "244122         MainScreenAppear  5849806612437486590  1565212439      246\n",
       "244123         MainScreenAppear  5746969938801999050  1565212483      246\n",
       "244124         MainScreenAppear  5746969938801999050  1565212498      246\n",
       "244125       OffersScreenAppear  5746969938801999050  1565212517      246\n",
       "\n",
       "[244126 rows x 4 columns]"
      ]
     },
     "execution_count": 333,
     "metadata": {},
     "output_type": "execute_result"
    }
   ],
   "source": [
    "# Renomeando as colunas:\n",
    "df = df.rename(columns={'EventName': 'nome_evento',\n",
    "                        'DeviceIDHash': 'id_unico',\n",
    "                        'EventTimestamp': 'hora',\n",
    "                        'ExpId': 'num_exp'})\n",
    "\n",
    "# Visualizar o DataFrame com as colunas renomeadas\n",
    "df   v"
   ]
  },
  {
   "cell_type": "markdown",
   "metadata": {},
   "source": [
    "## Exploração de dados de df\n",
    "\n",
    "Iremos analisar cada uma das colunas com o intuito de analisar a procedência e veracidade dos dados. Além disso, vamos procurar por duplicadas implícitas, analisar o frame de datas também.\n",
    "\n",
    "De primeiro momento, já padronizamos as colunas para snake_case anteriormente e agora iremos trabalhar com as colunas de nossa DataFrame."
   ]
  },
  {
   "cell_type": "markdown",
   "metadata": {},
   "source": [
    "### Dados na coluna nome_evento\n",
    "\n",
    "Vamos analisar os eventos distintos e analisar se existem duplicatas implícitas em nossos dados. Também iremos analisar a contagem e soma dos diferentes tipos de eventos."
   ]
  },
  {
   "cell_type": "code",
   "execution_count": 334,
   "metadata": {},
   "outputs": [
    {
     "data": {
      "text/plain": [
       "['MainScreenAppear',\n",
       " 'PaymentScreenSuccessful',\n",
       " 'CartScreenAppear',\n",
       " 'OffersScreenAppear',\n",
       " 'Tutorial']"
      ]
     },
     "execution_count": 334,
     "metadata": {},
     "output_type": "execute_result"
    }
   ],
   "source": [
    "# Gerando lista de eventos\n",
    "evento = list(df['nome_evento'].unique())\n",
    "\n",
    "# Mostrando eventos\n",
    "evento"
   ]
  },
  {
   "cell_type": "code",
   "execution_count": 335,
   "metadata": {},
   "outputs": [
    {
     "data": {
      "text/plain": [
       "MainScreenAppear           119205\n",
       "OffersScreenAppear          46825\n",
       "CartScreenAppear            42731\n",
       "PaymentScreenSuccessful     34313\n",
       "Tutorial                     1052\n",
       "Name: nome_evento, dtype: int64"
      ]
     },
     "execution_count": 335,
     "metadata": {},
     "output_type": "execute_result"
    }
   ],
   "source": [
    "# Contagem dos eventos\n",
    "df['nome_evento'].value_counts()"
   ]
  },
  {
   "cell_type": "code",
   "execution_count": 336,
   "metadata": {},
   "outputs": [
    {
     "data": {
      "image/png": "[encoded data removed]",
      "text/plain": [
       "<Figure size 1152x648 with 1 Axes>"
      ]
     },
     "metadata": {
      "needs_background": "light"
     },
     "output_type": "display_data"
    }
   ],
   "source": [
    "# Dados do gráfico\n",
    "x = df['nome_evento'].unique()\n",
    "y = df['nome_evento'].value_counts()\n",
    "\n",
    "# Configurar tamanho da figura para 16:9\n",
    "plt.figure(figsize=(16, 9))\n",
    "\n",
    "# Plotar gráfico de barras\n",
    "plt.bar(x, y)\n",
    "\n",
    "# Configurar nome dos eixos\n",
    "plt.xlabel('Nome do Evento')\n",
    "plt.ylabel('Contagem')\n",
    "\n",
    "# Configurar título do gráfico\n",
    "plt.title('Contagem de Eventos')\n",
    "\n",
    "# Configurar legenda\n",
    "plt.legend(['Eventos'])\n",
    "\n",
    "# Exibir o gráfico\n",
    "plt.show()"
   ]
  },
  {
   "cell_type": "markdown",
   "metadata": {},
   "source": [
    "**Conclusão Intermediária**\n",
    "\n",
    "Ao analisar vemos que:\n",
    "\n",
    "* Os dados da coluna não possuem dados com duplicatas implícitas;\n",
    "* Podemos ver o fenomeno de um funil de visitantes em uma página com vendas.\n",
    "* O funil começa com a entrada na págna principal e vai estreitando até a conversão onde se inicia o Tutorial.\n",
    "\n",
    "Não é necessário a alteração de nenhum padrão para a coluna."
   ]
  },
  {
   "cell_type": "markdown",
   "metadata": {},
   "source": [
    "### Dados na coluna id_unico\n",
    "\n",
    "Vamos analisar o número de ids e únicos."
   ]
  },
  {
   "cell_type": "code",
   "execution_count": 337,
   "metadata": {},
   "outputs": [
    {
     "data": {
      "text/plain": [
       "7551"
      ]
     },
     "execution_count": 337,
     "metadata": {},
     "output_type": "execute_result"
    }
   ],
   "source": [
    "df['id_unico'].nunique()"
   ]
  },
  {
   "cell_type": "markdown",
   "metadata": {},
   "source": [
    "**Conclusão Intermediária**\n",
    "\n",
    "Pode-se observar que existem 7551 usuários no teste realizado.\n",
    "\n",
    "Desse teste, ainda, teremos que observar nos próximos passos se existem usuários com id_únicos em mais de um grupo."
   ]
  },
  {
   "cell_type": "markdown",
   "metadata": {},
   "source": [
    "### Dados na coluna hora\n",
    "\n",
    "Iremos alterar o tipo da coluna de TimeStamp fornecido para o tipo correto.\n",
    "\n",
    "Ao que indica, a coluna hora representa os segundos de contagem, assim iremos realizar as alterações pertinentes."
   ]
  },
  {
   "cell_type": "code",
   "execution_count": 338,
   "metadata": {},
   "outputs": [
    {
     "data": {
      "text/html": [
       "<div>\n",
       "<style scoped>\n",
       "    .dataframe tbody tr th:only-of-type {\n",
       "        vertical-align: middle;\n",
       "    }\n",
       "\n",
       "    .dataframe tbody tr th {\n",
       "        vertical-align: top;\n",
       "    }\n",
       "\n",
       "    .dataframe thead th {\n",
       "        text-align: right;\n",
       "    }\n",
       "</style>\n",
       "<table border=\"1\" class=\"dataframe\">\n",
       "  <thead>\n",
       "    <tr style=\"text-align: right;\">\n",
       "      <th></th>\n",
       "      <th>nome_evento</th>\n",
       "      <th>id_unico</th>\n",
       "      <th>hora</th>\n",
       "      <th>num_exp</th>\n",
       "    </tr>\n",
       "  </thead>\n",
       "  <tbody>\n",
       "    <tr>\n",
       "      <th>0</th>\n",
       "      <td>MainScreenAppear</td>\n",
       "      <td>4575588528974610257</td>\n",
       "      <td>2019-07-25 04:43:36</td>\n",
       "      <td>246</td>\n",
       "    </tr>\n",
       "    <tr>\n",
       "      <th>1</th>\n",
       "      <td>MainScreenAppear</td>\n",
       "      <td>7416695313311560658</td>\n",
       "      <td>2019-07-25 11:11:42</td>\n",
       "      <td>246</td>\n",
       "    </tr>\n",
       "    <tr>\n",
       "      <th>2</th>\n",
       "      <td>PaymentScreenSuccessful</td>\n",
       "      <td>3518123091307005509</td>\n",
       "      <td>2019-07-25 11:28:47</td>\n",
       "      <td>248</td>\n",
       "    </tr>\n",
       "    <tr>\n",
       "      <th>3</th>\n",
       "      <td>CartScreenAppear</td>\n",
       "      <td>3518123091307005509</td>\n",
       "      <td>2019-07-25 11:28:47</td>\n",
       "      <td>248</td>\n",
       "    </tr>\n",
       "    <tr>\n",
       "      <th>4</th>\n",
       "      <td>PaymentScreenSuccessful</td>\n",
       "      <td>6217807653094995999</td>\n",
       "      <td>2019-07-25 11:48:42</td>\n",
       "      <td>248</td>\n",
       "    </tr>\n",
       "    <tr>\n",
       "      <th>...</th>\n",
       "      <td>...</td>\n",
       "      <td>...</td>\n",
       "      <td>...</td>\n",
       "      <td>...</td>\n",
       "    </tr>\n",
       "    <tr>\n",
       "      <th>244121</th>\n",
       "      <td>MainScreenAppear</td>\n",
       "      <td>4599628364049201812</td>\n",
       "      <td>2019-08-07 21:12:25</td>\n",
       "      <td>247</td>\n",
       "    </tr>\n",
       "    <tr>\n",
       "      <th>244122</th>\n",
       "      <td>MainScreenAppear</td>\n",
       "      <td>5849806612437486590</td>\n",
       "      <td>2019-08-07 21:13:59</td>\n",
       "      <td>246</td>\n",
       "    </tr>\n",
       "    <tr>\n",
       "      <th>244123</th>\n",
       "      <td>MainScreenAppear</td>\n",
       "      <td>5746969938801999050</td>\n",
       "      <td>2019-08-07 21:14:43</td>\n",
       "      <td>246</td>\n",
       "    </tr>\n",
       "    <tr>\n",
       "      <th>244124</th>\n",
       "      <td>MainScreenAppear</td>\n",
       "      <td>5746969938801999050</td>\n",
       "      <td>2019-08-07 21:14:58</td>\n",
       "      <td>246</td>\n",
       "    </tr>\n",
       "    <tr>\n",
       "      <th>244125</th>\n",
       "      <td>OffersScreenAppear</td>\n",
       "      <td>5746969938801999050</td>\n",
       "      <td>2019-08-07 21:15:17</td>\n",
       "      <td>246</td>\n",
       "    </tr>\n",
       "  </tbody>\n",
       "</table>\n",
       "<p>244126 rows × 4 columns</p>\n",
       "</div>"
      ],
      "text/plain": [
       "                    nome_evento             id_unico                hora  \\\n",
       "0              MainScreenAppear  4575588528974610257 2019-07-25 04:43:36   \n",
       "1              MainScreenAppear  7416695313311560658 2019-07-25 11:11:42   \n",
       "2       PaymentScreenSuccessful  3518123091307005509 2019-07-25 11:28:47   \n",
       "3              CartScreenAppear  3518123091307005509 2019-07-25 11:28:47   \n",
       "4       PaymentScreenSuccessful  6217807653094995999 2019-07-25 11:48:42   \n",
       "...                         ...                  ...                 ...   \n",
       "244121         MainScreenAppear  4599628364049201812 2019-08-07 21:12:25   \n",
       "244122         MainScreenAppear  5849806612437486590 2019-08-07 21:13:59   \n",
       "244123         MainScreenAppear  5746969938801999050 2019-08-07 21:14:43   \n",
       "244124         MainScreenAppear  5746969938801999050 2019-08-07 21:14:58   \n",
       "244125       OffersScreenAppear  5746969938801999050 2019-08-07 21:15:17   \n",
       "\n",
       "        num_exp  \n",
       "0           246  \n",
       "1           246  \n",
       "2           248  \n",
       "3           248  \n",
       "4           248  \n",
       "...         ...  \n",
       "244121      247  \n",
       "244122      246  \n",
       "244123      246  \n",
       "244124      246  \n",
       "244125      246  \n",
       "\n",
       "[244126 rows x 4 columns]"
      ]
     },
     "execution_count": 338,
     "metadata": {},
     "output_type": "execute_result"
    }
   ],
   "source": [
    "# Converter a coluna \"hora\" em um formato de data\n",
    "df['hora'] = pd.to_datetime(df['hora'], unit='s')\n",
    "\n",
    "# Visualizar o DataFrame com a coluna \"hora\" convertida\n",
    "df"
   ]
  },
  {
   "cell_type": "code",
   "execution_count": 339,
   "metadata": {},
   "outputs": [
    {
     "name": "stdout",
     "output_type": "stream",
     "text": [
      "Valor máximo: 2019-08-07 21:15:17\n",
      "Valor mínimo: 2019-07-25 04:43:36\n"
     ]
    }
   ],
   "source": [
    "# Encontrar o valor máximo e mínimo da coluna \"hora\"\n",
    "valor_maximo = df['hora'].max()\n",
    "valor_minimo = df['hora'].min()\n",
    "\n",
    "# Exibir os valores máximo e mínimo\n",
    "print('Valor máximo:', valor_maximo)\n",
    "print('Valor mínimo:', valor_minimo)"
   ]
  },
  {
   "cell_type": "code",
   "execution_count": 340,
   "metadata": {},
   "outputs": [
    {
     "name": "stdout",
     "output_type": "stream",
     "text": [
      "13 days 16:31:41\n"
     ]
    }
   ],
   "source": [
    "# diferença de dias\n",
    "print(valor_maximo - valor_minimo)"
   ]
  },
  {
   "cell_type": "markdown",
   "metadata": {},
   "source": [
    "**Conclusão Intermediária**\n",
    "\n",
    "Pode-se observar que:\n",
    "\n",
    "* Os dados estavam no tipo de TimeStamp de segundos e ao fazer a alteração pertinente se coletou as datas corretamente.\n",
    "* A data mínima é 2019-07-25\n",
    "* A data final é 2019-08-07\n",
    "* O teste durou aproxidamente 13 dias\n",
    "\n",
    "Iremos adicionar uma coluna com a data para melhor trabalhar com os dados posteriormente."
   ]
  },
  {
   "cell_type": "code",
   "execution_count": 341,
   "metadata": {},
   "outputs": [
    {
     "data": {
      "text/html": [
       "<div>\n",
       "<style scoped>\n",
       "    .dataframe tbody tr th:only-of-type {\n",
       "        vertical-align: middle;\n",
       "    }\n",
       "\n",
       "    .dataframe tbody tr th {\n",
       "        vertical-align: top;\n",
       "    }\n",
       "\n",
       "    .dataframe thead th {\n",
       "        text-align: right;\n",
       "    }\n",
       "</style>\n",
       "<table border=\"1\" class=\"dataframe\">\n",
       "  <thead>\n",
       "    <tr style=\"text-align: right;\">\n",
       "      <th></th>\n",
       "      <th>nome_evento</th>\n",
       "      <th>id_unico</th>\n",
       "      <th>hora</th>\n",
       "      <th>num_exp</th>\n",
       "      <th>data</th>\n",
       "    </tr>\n",
       "  </thead>\n",
       "  <tbody>\n",
       "    <tr>\n",
       "      <th>0</th>\n",
       "      <td>MainScreenAppear</td>\n",
       "      <td>4575588528974610257</td>\n",
       "      <td>2019-07-25 04:43:36</td>\n",
       "      <td>246</td>\n",
       "      <td>2019-07-25</td>\n",
       "    </tr>\n",
       "    <tr>\n",
       "      <th>1</th>\n",
       "      <td>MainScreenAppear</td>\n",
       "      <td>7416695313311560658</td>\n",
       "      <td>2019-07-25 11:11:42</td>\n",
       "      <td>246</td>\n",
       "      <td>2019-07-25</td>\n",
       "    </tr>\n",
       "    <tr>\n",
       "      <th>2</th>\n",
       "      <td>PaymentScreenSuccessful</td>\n",
       "      <td>3518123091307005509</td>\n",
       "      <td>2019-07-25 11:28:47</td>\n",
       "      <td>248</td>\n",
       "      <td>2019-07-25</td>\n",
       "    </tr>\n",
       "    <tr>\n",
       "      <th>3</th>\n",
       "      <td>CartScreenAppear</td>\n",
       "      <td>3518123091307005509</td>\n",
       "      <td>2019-07-25 11:28:47</td>\n",
       "      <td>248</td>\n",
       "      <td>2019-07-25</td>\n",
       "    </tr>\n",
       "    <tr>\n",
       "      <th>4</th>\n",
       "      <td>PaymentScreenSuccessful</td>\n",
       "      <td>6217807653094995999</td>\n",
       "      <td>2019-07-25 11:48:42</td>\n",
       "      <td>248</td>\n",
       "      <td>2019-07-25</td>\n",
       "    </tr>\n",
       "    <tr>\n",
       "      <th>...</th>\n",
       "      <td>...</td>\n",
       "      <td>...</td>\n",
       "      <td>...</td>\n",
       "      <td>...</td>\n",
       "      <td>...</td>\n",
       "    </tr>\n",
       "    <tr>\n",
       "      <th>244121</th>\n",
       "      <td>MainScreenAppear</td>\n",
       "      <td>4599628364049201812</td>\n",
       "      <td>2019-08-07 21:12:25</td>\n",
       "      <td>247</td>\n",
       "      <td>2019-08-07</td>\n",
       "    </tr>\n",
       "    <tr>\n",
       "      <th>244122</th>\n",
       "      <td>MainScreenAppear</td>\n",
       "      <td>5849806612437486590</td>\n",
       "      <td>2019-08-07 21:13:59</td>\n",
       "      <td>246</td>\n",
       "      <td>2019-08-07</td>\n",
       "    </tr>\n",
       "    <tr>\n",
       "      <th>244123</th>\n",
       "      <td>MainScreenAppear</td>\n",
       "      <td>5746969938801999050</td>\n",
       "      <td>2019-08-07 21:14:43</td>\n",
       "      <td>246</td>\n",
       "      <td>2019-08-07</td>\n",
       "    </tr>\n",
       "    <tr>\n",
       "      <th>244124</th>\n",
       "      <td>MainScreenAppear</td>\n",
       "      <td>5746969938801999050</td>\n",
       "      <td>2019-08-07 21:14:58</td>\n",
       "      <td>246</td>\n",
       "      <td>2019-08-07</td>\n",
       "    </tr>\n",
       "    <tr>\n",
       "      <th>244125</th>\n",
       "      <td>OffersScreenAppear</td>\n",
       "      <td>5746969938801999050</td>\n",
       "      <td>2019-08-07 21:15:17</td>\n",
       "      <td>246</td>\n",
       "      <td>2019-08-07</td>\n",
       "    </tr>\n",
       "  </tbody>\n",
       "</table>\n",
       "<p>244126 rows × 5 columns</p>\n",
       "</div>"
      ],
      "text/plain": [
       "                    nome_evento             id_unico                hora  \\\n",
       "0              MainScreenAppear  4575588528974610257 2019-07-25 04:43:36   \n",
       "1              MainScreenAppear  7416695313311560658 2019-07-25 11:11:42   \n",
       "2       PaymentScreenSuccessful  3518123091307005509 2019-07-25 11:28:47   \n",
       "3              CartScreenAppear  3518123091307005509 2019-07-25 11:28:47   \n",
       "4       PaymentScreenSuccessful  6217807653094995999 2019-07-25 11:48:42   \n",
       "...                         ...                  ...                 ...   \n",
       "244121         MainScreenAppear  4599628364049201812 2019-08-07 21:12:25   \n",
       "244122         MainScreenAppear  5849806612437486590 2019-08-07 21:13:59   \n",
       "244123         MainScreenAppear  5746969938801999050 2019-08-07 21:14:43   \n",
       "244124         MainScreenAppear  5746969938801999050 2019-08-07 21:14:58   \n",
       "244125       OffersScreenAppear  5746969938801999050 2019-08-07 21:15:17   \n",
       "\n",
       "        num_exp        data  \n",
       "0           246  2019-07-25  \n",
       "1           246  2019-07-25  \n",
       "2           248  2019-07-25  \n",
       "3           248  2019-07-25  \n",
       "4           248  2019-07-25  \n",
       "...         ...         ...  \n",
       "244121      247  2019-08-07  \n",
       "244122      246  2019-08-07  \n",
       "244123      246  2019-08-07  \n",
       "244124      246  2019-08-07  \n",
       "244125      246  2019-08-07  \n",
       "\n",
       "[244126 rows x 5 columns]"
      ]
     },
     "execution_count": 341,
     "metadata": {},
     "output_type": "execute_result"
    }
   ],
   "source": [
    "# criando coluna com data\n",
    "df['data'] = df['hora'].dt.date\n",
    "\n",
    "df"
   ]
  },
  {
   "cell_type": "markdown",
   "metadata": {},
   "source": [
    "### Dados na coluna num_exp\n",
    "\n",
    "Iremos analisar quais os numeros dos experimentos realizados.\n",
    "\n",
    "Também iremos analisar se existem usuários em diferentes grupos e iremos tratar esses dados."
   ]
  },
  {
   "cell_type": "code",
   "execution_count": 342,
   "metadata": {},
   "outputs": [
    {
     "data": {
      "text/plain": [
       "array([246, 248, 247])"
      ]
     },
     "execution_count": 342,
     "metadata": {},
     "output_type": "execute_result"
    }
   ],
   "source": [
    "# Experimentos realizados\n",
    "df['num_exp'].unique()"
   ]
  },
  {
   "cell_type": "code",
   "execution_count": 343,
   "metadata": {},
   "outputs": [
    {
     "data": {
      "text/html": [
       "<div>\n",
       "<style scoped>\n",
       "    .dataframe tbody tr th:only-of-type {\n",
       "        vertical-align: middle;\n",
       "    }\n",
       "\n",
       "    .dataframe tbody tr th {\n",
       "        vertical-align: top;\n",
       "    }\n",
       "\n",
       "    .dataframe thead th {\n",
       "        text-align: right;\n",
       "    }\n",
       "</style>\n",
       "<table border=\"1\" class=\"dataframe\">\n",
       "  <thead>\n",
       "    <tr style=\"text-align: right;\">\n",
       "      <th></th>\n",
       "      <th>nome_evento</th>\n",
       "      <th>id_unico</th>\n",
       "      <th>hora</th>\n",
       "      <th>num_exp</th>\n",
       "      <th>data</th>\n",
       "    </tr>\n",
       "  </thead>\n",
       "  <tbody>\n",
       "    <tr>\n",
       "      <th>0</th>\n",
       "      <td>MainScreenAppear</td>\n",
       "      <td>4575588528974610257</td>\n",
       "      <td>2019-07-25 04:43:36</td>\n",
       "      <td>246</td>\n",
       "      <td>2019-07-25</td>\n",
       "    </tr>\n",
       "    <tr>\n",
       "      <th>1</th>\n",
       "      <td>MainScreenAppear</td>\n",
       "      <td>7416695313311560658</td>\n",
       "      <td>2019-07-25 11:11:42</td>\n",
       "      <td>246</td>\n",
       "      <td>2019-07-25</td>\n",
       "    </tr>\n",
       "    <tr>\n",
       "      <th>2</th>\n",
       "      <td>PaymentScreenSuccessful</td>\n",
       "      <td>3518123091307005509</td>\n",
       "      <td>2019-07-25 11:28:47</td>\n",
       "      <td>248</td>\n",
       "      <td>2019-07-25</td>\n",
       "    </tr>\n",
       "    <tr>\n",
       "      <th>3</th>\n",
       "      <td>CartScreenAppear</td>\n",
       "      <td>3518123091307005509</td>\n",
       "      <td>2019-07-25 11:28:47</td>\n",
       "      <td>248</td>\n",
       "      <td>2019-07-25</td>\n",
       "    </tr>\n",
       "    <tr>\n",
       "      <th>4</th>\n",
       "      <td>PaymentScreenSuccessful</td>\n",
       "      <td>6217807653094995999</td>\n",
       "      <td>2019-07-25 11:48:42</td>\n",
       "      <td>248</td>\n",
       "      <td>2019-07-25</td>\n",
       "    </tr>\n",
       "    <tr>\n",
       "      <th>...</th>\n",
       "      <td>...</td>\n",
       "      <td>...</td>\n",
       "      <td>...</td>\n",
       "      <td>...</td>\n",
       "      <td>...</td>\n",
       "    </tr>\n",
       "    <tr>\n",
       "      <th>244121</th>\n",
       "      <td>MainScreenAppear</td>\n",
       "      <td>4599628364049201812</td>\n",
       "      <td>2019-08-07 21:12:25</td>\n",
       "      <td>247</td>\n",
       "      <td>2019-08-07</td>\n",
       "    </tr>\n",
       "    <tr>\n",
       "      <th>244122</th>\n",
       "      <td>MainScreenAppear</td>\n",
       "      <td>5849806612437486590</td>\n",
       "      <td>2019-08-07 21:13:59</td>\n",
       "      <td>246</td>\n",
       "      <td>2019-08-07</td>\n",
       "    </tr>\n",
       "    <tr>\n",
       "      <th>244123</th>\n",
       "      <td>MainScreenAppear</td>\n",
       "      <td>5746969938801999050</td>\n",
       "      <td>2019-08-07 21:14:43</td>\n",
       "      <td>246</td>\n",
       "      <td>2019-08-07</td>\n",
       "    </tr>\n",
       "    <tr>\n",
       "      <th>244124</th>\n",
       "      <td>MainScreenAppear</td>\n",
       "      <td>5746969938801999050</td>\n",
       "      <td>2019-08-07 21:14:58</td>\n",
       "      <td>246</td>\n",
       "      <td>2019-08-07</td>\n",
       "    </tr>\n",
       "    <tr>\n",
       "      <th>244125</th>\n",
       "      <td>OffersScreenAppear</td>\n",
       "      <td>5746969938801999050</td>\n",
       "      <td>2019-08-07 21:15:17</td>\n",
       "      <td>246</td>\n",
       "      <td>2019-08-07</td>\n",
       "    </tr>\n",
       "  </tbody>\n",
       "</table>\n",
       "<p>244126 rows × 5 columns</p>\n",
       "</div>"
      ],
      "text/plain": [
       "                    nome_evento             id_unico                hora  \\\n",
       "0              MainScreenAppear  4575588528974610257 2019-07-25 04:43:36   \n",
       "1              MainScreenAppear  7416695313311560658 2019-07-25 11:11:42   \n",
       "2       PaymentScreenSuccessful  3518123091307005509 2019-07-25 11:28:47   \n",
       "3              CartScreenAppear  3518123091307005509 2019-07-25 11:28:47   \n",
       "4       PaymentScreenSuccessful  6217807653094995999 2019-07-25 11:48:42   \n",
       "...                         ...                  ...                 ...   \n",
       "244121         MainScreenAppear  4599628364049201812 2019-08-07 21:12:25   \n",
       "244122         MainScreenAppear  5849806612437486590 2019-08-07 21:13:59   \n",
       "244123         MainScreenAppear  5746969938801999050 2019-08-07 21:14:43   \n",
       "244124         MainScreenAppear  5746969938801999050 2019-08-07 21:14:58   \n",
       "244125       OffersScreenAppear  5746969938801999050 2019-08-07 21:15:17   \n",
       "\n",
       "        num_exp        data  \n",
       "0           246  2019-07-25  \n",
       "1           246  2019-07-25  \n",
       "2           248  2019-07-25  \n",
       "3           248  2019-07-25  \n",
       "4           248  2019-07-25  \n",
       "...         ...         ...  \n",
       "244121      247  2019-08-07  \n",
       "244122      246  2019-08-07  \n",
       "244123      246  2019-08-07  \n",
       "244124      246  2019-08-07  \n",
       "244125      246  2019-08-07  \n",
       "\n",
       "[244126 rows x 5 columns]"
      ]
     },
     "execution_count": 343,
     "metadata": {},
     "output_type": "execute_result"
    }
   ],
   "source": [
    "df"
   ]
  },
  {
   "cell_type": "code",
   "execution_count": 344,
   "metadata": {},
   "outputs": [
    {
     "data": {
      "text/plain": [
       "Series([], Name: num_exp, dtype: int64)"
      ]
     },
     "execution_count": 344,
     "metadata": {},
     "output_type": "execute_result"
    }
   ],
   "source": [
    "# Encontrar id_unicos em mais de um grupo na coluna \"num_exp\"\n",
    "usuarios_multiplos_grupos = df.groupby('id_unico')['num_exp'].nunique()\n",
    "usuarios_multiplos_grupos = usuarios_multiplos_grupos[usuarios_multiplos_grupos > 1]\n",
    "\n",
    "# Mostrar dados\n",
    "usuarios_multiplos_grupos"
   ]
  },
  {
   "cell_type": "markdown",
   "metadata": {},
   "source": [
    "**Conclusão Intermediária**\n",
    "\n",
    "Podemos tirar que:\n",
    "\n",
    "* Os grupos de testes são o 246, 247 e 248;\n",
    "* Não existem usuários inseridos mais de 1 grupo diferente então não necessita-se de limpeza posterior;\n",
    "* Vamos analisar como está feita a separação, ou seja, quanto usuários em cada grupo;"
   ]
  },
  {
   "cell_type": "code",
   "execution_count": 345,
   "metadata": {},
   "outputs": [
    {
     "data": {
      "text/plain": [
       "num_exp\n",
       "246    2489\n",
       "247    2520\n",
       "248    2542\n",
       "Name: id_unico, dtype: int64"
      ]
     },
     "execution_count": 345,
     "metadata": {},
     "output_type": "execute_result"
    }
   ],
   "source": [
    "# Calculando o número de usuários para cada grupo\n",
    "usuarios_unicos_por_grupo = df.groupby('num_exp')['id_unico'].nunique()\n",
    "\n",
    "# Mostrando\n",
    "usuarios_unicos_por_grupo"
   ]
  },
  {
   "cell_type": "markdown",
   "metadata": {},
   "source": [
    "Para esss tipo de teste precisamos ter o mesmo número de amostras para todos os grupos para que não haja discrepâncias para os testes realizados. Logo iremos padronizar para ter o número de usuários do grupo 246 excluindo os de menor relevância para os grupos 247, ou seja, os que acessaram somente 1 vez a página.\n",
    "\n",
    "Tal procedimento iremos realizar posteriormente juntamente com a análise de datas relevantes para o nosso teste."
   ]
  },
  {
   "cell_type": "markdown",
   "metadata": {},
   "source": [
    "**Conclusão**\n",
    "\n",
    "Em resumo, com base nas conclusões intermediárias apresentadas:\n",
    "\n",
    "Os grupos de testes são 246, 247 e 248, sem usuários inseridos em mais de um grupo.\n",
    "Os dados de data foram corrigidos, abrangendo um período de aproximadamente 13 dias.\n",
    "Existem 7.551 usuários no teste realizado.\n",
    "Não há duplicatas implícitas nos dados analisados.\n",
    "Observou-se um funil de visitantes em uma página com vendas.\n",
    "Serão feitas alterações nas colunas, incluindo renomeação e ajuste de formato.\n",
    "Não foram identificados valores nulos.\n",
    "A transformação da coluna EventTimestamp para o formato de data é necessária.\n",
    "Essas conclusões fornecem um panorama sobre os dados e orientam as próximas etapas da análise."
   ]
  },
  {
   "cell_type": "markdown",
   "metadata": {},
   "source": [
    "## Estudo e verificação dos dados\n",
    "\n",
    "Nessa seção iremos realizar uma série de estudos e verificações de nossos dados. Passaremos pelas seguintes análises:\n",
    "\n",
    "* Quantos eventos temos nos diários?\n",
    "* Quantos usuários temos nos diários?\n",
    "* Qual é o número médio de eventos por usuário?\n",
    "* Qual é o período de tempo que nossos dados cobrem? Encontremos a data máxima e mínima. Vamos desenhar um histograma por data e hora. Podemos ter certeza de que possuímos dados igualmente completos para todo o período? Os eventos mais antigos podem acabar aparecendo nos diários de alguns usuários por motivos técnicos, e isso pode distorcer o quadro geral. Vamos encontrar o momento em que nossos dados começam a ser completos e ignorar a seção anterior. Qual período nossos dados realmente representam?\n",
    "* Perdemos muitos eventos e usuários ao excluir os dados mais antigos?\n",
    "* Vamos garantir que tenhamos usuários de todos os três grupos experimentais."
   ]
  },
  {
   "cell_type": "markdown",
   "metadata": {},
   "source": [
    "### Quantos eventos ficam nos diários?"
   ]
  },
  {
   "cell_type": "code",
   "execution_count": 346,
   "metadata": {},
   "outputs": [
    {
     "data": {
      "text/plain": [
       "data\n",
       "2019-07-25        9\n",
       "2019-07-26       31\n",
       "2019-07-27       55\n",
       "2019-07-28      105\n",
       "2019-07-29      184\n",
       "2019-07-30      413\n",
       "2019-07-31     2031\n",
       "2019-08-01    36229\n",
       "2019-08-02    35606\n",
       "2019-08-03    33351\n",
       "2019-08-04    33033\n",
       "2019-08-05    36113\n",
       "2019-08-06    35822\n",
       "2019-08-07    31144\n",
       "dtype: int64"
      ]
     },
     "execution_count": 346,
     "metadata": {},
     "output_type": "execute_result"
    }
   ],
   "source": [
    "# Convertendo a coluna 'data' para o tipo de dados datetime\n",
    "df['data'] = pd.to_datetime(df['data'])\n",
    "\n",
    "# Contando o número de eventos por dia\n",
    "eventos_diarios = df.groupby(df['data'].dt.date).size()\n",
    "\n",
    "eventos_diarios"
   ]
  },
  {
   "cell_type": "code",
   "execution_count": 347,
   "metadata": {},
   "outputs": [
    {
     "data": {
      "image/png": "[encoded data removed]",
      "text/plain": [
       "<Figure size 864x432 with 1 Axes>"
      ]
     },
     "metadata": {
      "needs_background": "light"
     },
     "output_type": "display_data"
    }
   ],
   "source": [
    "# Converter a série de eventos diários em um DataFrame\n",
    "df_eventos_diarios = eventos_diarios.reset_index(name='count')\n",
    "\n",
    "# Plotar o gráfico de barras\n",
    "plt.figure(figsize=(12, 6))\n",
    "sns.barplot(x='data', y='count', data=df_eventos_diarios)\n",
    "plt.xticks(rotation=45)\n",
    "plt.xlabel('Data')\n",
    "plt.ylabel('Número de Eventos')\n",
    "plt.title('Eventos Diários')\n",
    "plt.show()"
   ]
  },
  {
   "cell_type": "code",
   "execution_count": 348,
   "metadata": {},
   "outputs": [
    {
     "data": {
      "image/png": "[encoded data removed]",
      "text/plain": [
       "<Figure size 1152x648 with 1 Axes>"
      ]
     },
     "metadata": {
      "needs_background": "light"
     },
     "output_type": "display_data"
    }
   ],
   "source": [
    "# Agrupando os dados por data e 'num_exp' e contando o número de eventos\n",
    "eventos_diarios_por_grupo = df.groupby([df['data'].dt.date, 'num_exp']).size().reset_index(name='contagem')\n",
    "\n",
    "# Configurar tamanho da figura para 16:9\n",
    "plt.figure(figsize=(16, 9))\n",
    "\n",
    "# Criando um gráfico de linhas para cada grupo\n",
    "for grupo in eventos_diarios_por_grupo['num_exp'].unique():\n",
    "    dados_do_grupo = eventos_diarios_por_grupo[eventos_diarios_por_grupo['num_exp'] == grupo]\n",
    "    plt.plot(dados_do_grupo['data'], dados_do_grupo['contagem'], label=f'Grupo {grupo}')\n",
    "\n",
    "plt.xlabel('Data')\n",
    "plt.ylabel('Número de Eventos')\n",
    "plt.legend()\n",
    "plt.title('Número de Eventos por Dia para Cada Grupo Experimental')\n",
    "plt.show()"
   ]
  },
  {
   "cell_type": "markdown",
   "metadata": {},
   "source": [
    "**Conclusão**\n",
    "\n",
    "* Percebe-se que há um claro cresciemento de usuários após a data do 31/07;\n",
    "\n",
    "* Esse crescimento alto pode ser erro na base, ou a divulgação de marketing por algum canal específico.\n",
    "\n",
    "* Há um número de eventos que é crescente com um máximo de 3922 eventos por dia totais"
   ]
  },
  {
   "cell_type": "markdown",
   "metadata": {},
   "source": [
    "### Quantos usuários ficam nos diários?\n",
    "\n",
    "Iremos considerar o número médio de usuários únicos que acessam para essa análise e número médio de usuários em geral."
   ]
  },
  {
   "cell_type": "code",
   "execution_count": 349,
   "metadata": {},
   "outputs": [
    {
     "data": {
      "text/plain": [
       "data\n",
       "2019-07-25       7\n",
       "2019-07-26      22\n",
       "2019-07-27      39\n",
       "2019-07-28      69\n",
       "2019-07-29     135\n",
       "2019-07-30     296\n",
       "2019-07-31     924\n",
       "2019-08-01    3703\n",
       "2019-08-02    3647\n",
       "2019-08-03    3482\n",
       "2019-08-04    3527\n",
       "2019-08-05    3802\n",
       "2019-08-06    3922\n",
       "2019-08-07    3651\n",
       "Name: id_unico, dtype: int64"
      ]
     },
     "execution_count": 349,
     "metadata": {},
     "output_type": "execute_result"
    }
   ],
   "source": [
    "# Contando o número de usuários únicos por dia\n",
    "usuarios_diarios = df.groupby(df['data'].dt.date)['id_unico'].nunique()\n",
    "\n",
    "usuarios_diarios"
   ]
  },
  {
   "cell_type": "code",
   "execution_count": 350,
   "metadata": {
    "scrolled": false
   },
   "outputs": [
    {
     "name": "stdout",
     "output_type": "stream",
     "text": [
      "Número médio de usuários por dia:  1944.7142857142858\n",
      "          data  num_exp  contagem\n",
      "0   2019-07-25      246         4\n",
      "1   2019-07-25      247         1\n",
      "2   2019-07-25      248         2\n",
      "3   2019-07-26      246         7\n",
      "4   2019-07-26      247         7\n",
      "5   2019-07-26      248         8\n",
      "6   2019-07-27      246        14\n",
      "7   2019-07-27      247        17\n",
      "8   2019-07-27      248         8\n",
      "9   2019-07-28      246        26\n",
      "10  2019-07-28      247        25\n",
      "11  2019-07-28      248        18\n",
      "12  2019-07-29      246        44\n",
      "13  2019-07-29      247        41\n",
      "14  2019-07-29      248        50\n",
      "15  2019-07-30      246        93\n",
      "16  2019-07-30      247        96\n",
      "17  2019-07-30      248       107\n",
      "18  2019-07-31      246       285\n",
      "19  2019-07-31      247       314\n",
      "20  2019-07-31      248       325\n",
      "21  2019-08-01      246      1191\n",
      "22  2019-08-01      247      1282\n",
      "23  2019-08-01      248      1230\n",
      "24  2019-08-02      246      1197\n",
      "25  2019-08-02      247      1221\n",
      "26  2019-08-02      248      1229\n",
      "27  2019-08-03      246      1140\n",
      "28  2019-08-03      247      1176\n",
      "29  2019-08-03      248      1166\n",
      "30  2019-08-04      246      1170\n",
      "31  2019-08-04      247      1169\n",
      "32  2019-08-04      248      1188\n",
      "33  2019-08-05      246      1269\n",
      "34  2019-08-05      247      1263\n",
      "35  2019-08-05      248      1270\n",
      "36  2019-08-06      246      1270\n",
      "37  2019-08-06      247      1320\n",
      "38  2019-08-06      248      1332\n",
      "39  2019-08-07      246      1198\n",
      "40  2019-08-07      247      1212\n",
      "41  2019-08-07      248      1241\n"
     ]
    },
    {
     "data": {
      "image/png": "[encoded data removed]",
      "text/plain": [
       "<Figure size 1152x648 with 1 Axes>"
      ]
     },
     "metadata": {
      "needs_background": "light"
     },
     "output_type": "display_data"
    },
    {
     "data": {
      "image/png": "[encoded data removed]",
      "text/plain": [
       "<Figure size 1152x648 with 1 Axes>"
      ]
     },
     "metadata": {
      "needs_background": "light"
     },
     "output_type": "display_data"
    }
   ],
   "source": [
    "# Contando o número de usuários únicos por dia\n",
    "usuarios_diarios = df.groupby(df['data'].dt.date)['id_unico'].nunique()\n",
    "\n",
    "# Contando o número de usuários únicos por dia para cada grupo\n",
    "usuarios_diarios_por_grupo = df.groupby([df['data'].dt.date, 'num_exp'])['id_unico'].nunique().reset_index(name='contagem')\n",
    "\n",
    "# Criando a tabela com os números\n",
    "print(\"Número médio de usuários por dia: \", usuarios_diarios.mean())\n",
    "print(usuarios_diarios_por_grupo)\n",
    "\n",
    "# Plotando o gráfico geral com seaborn\n",
    "plt.figure(figsize=(16, 9))\n",
    "sns.lineplot(data=usuarios_diarios)\n",
    "plt.xlabel('Data')\n",
    "plt.ylabel('Número de Usuários Únicos')\n",
    "plt.title('Número de Usuários Únicos por Dia')\n",
    "plt.show()\n",
    "\n",
    "# Plotando o gráfico para cada grupo com seaborn\n",
    "plt.figure(figsize=(16, 9))\n",
    "sns.lineplot(data=usuarios_diarios_por_grupo, x='data', y='contagem', hue='num_exp')\n",
    "plt.xlabel('Data')\n",
    "plt.ylabel('Número de Usuários Únicos')\n",
    "plt.title('Número de Usuários Únicos por Dia para Cada Grupo Experimental')\n",
    "plt.show()"
   ]
  },
  {
   "cell_type": "markdown",
   "metadata": {},
   "source": [
    "**Conclusão**\n",
    "\n",
    "Com base nos dados encontrados, podemos destacar as seguintes conclusões:\n",
    "\n",
    "1. Número médio de usuários por dia: 1944.71 - Calculando a média do número de usuários por dia, verificamos que, em média, tivemos cerca de 1944 usuários diários ao longo do período analisado.\n",
    "\n",
    "2. Distribuição dos eventos por grupo experimental: Observamos que ao longo dos dias, os eventos foram distribuídos de forma diferente entre os grupos experimentais. O grupo 246 teve uma maior contagem de eventos na maioria dos dias, seguido pelo grupo 247 e 248.\n",
    "\n",
    "3. Aumento significativo no número de eventos a partir de 31 de julho: Notamos um aumento considerável no número de eventos a partir do dia 31 de julho, onde os três grupos experimentais tiveram um aumento significativo na contagem de eventos.\n",
    "\n",
    "Essas conclusões nos permitem ter uma visão geral do número médio de usuários por dia e da distribuição dos eventos entre os grupos experimentais. Podemos considerar essas informações para tomar decisões e planejar futuras estratégias com base nos resultados obtidos."
   ]
  },
  {
   "cell_type": "markdown",
   "metadata": {},
   "source": [
    "### Qual é o número médio de eventos por usuário?\n",
    "\n",
    "Iremos calcular o número médio de eventos por usuário e plotar o gráfico da distribuição do número de eventos por usuário."
   ]
  },
  {
   "cell_type": "code",
   "execution_count": 351,
   "metadata": {},
   "outputs": [
    {
     "name": "stdout",
     "output_type": "stream",
     "text": [
      "A média de eventos por usuários é de 32.33028737915508\n"
     ]
    }
   ],
   "source": [
    "# Calculando o número médio de eventos por usuário\n",
    "media_eventos = df.groupby('id_unico').size().mean()\n",
    "\n",
    "# Mostrando\n",
    "print(f'A média de eventos por usuários é de {media_eventos}')"
   ]
  },
  {
   "cell_type": "code",
   "execution_count": 352,
   "metadata": {},
   "outputs": [
    {
     "data": {
      "image/png": "[encoded data removed]",
      "text/plain": [
       "<Figure size 1152x648 with 1 Axes>"
      ]
     },
     "metadata": {
      "needs_background": "light"
     },
     "output_type": "display_data"
    }
   ],
   "source": [
    "# Calculando o número de eventos por usuário\n",
    "eventos_por_usuario = df.groupby('id_unico').size()\n",
    "\n",
    "# Plotando a distribuição\n",
    "plt.figure(figsize=(16, 9))\n",
    "sns.histplot(eventos_por_usuario, kde=True)\n",
    "plt.title('Distribuição do número de eventos por usuário')\n",
    "plt.xlabel('Número de eventos')\n",
    "plt.ylabel('Número de usuários')\n",
    "\n",
    "# Ajustando a escala do eixo x\n",
    "plt.xscale('log')\n",
    "\n",
    "# Mostrando o gráfico\n",
    "plt.show()"
   ]
  },
  {
   "cell_type": "markdown",
   "metadata": {},
   "source": [
    "**Conclusão**\n",
    "\n",
    "* O número médio de eventos por usuário diariamente é de 32 diários\n",
    "\n",
    "* A distribuição mostra que cada usuários tem a tendência de acessar 10 vezes diariamente\n",
    "\n",
    "* A curva de distribuição dos eventos por usuário é não normal e talvez seja mais adequado utilizar a mediana e não a média para os dados centrais."
   ]
  },
  {
   "cell_type": "markdown",
   "metadata": {},
   "source": [
    "### Qual é o período de tempo que os dados cobrem? Encontre a data máxima e mínima. Histograma por data e hora."
   ]
  },
  {
   "cell_type": "code",
   "execution_count": 353,
   "metadata": {},
   "outputs": [],
   "source": [
    "# Separando os dados por Hora e Dia\n",
    "df['hora'] = pd.to_datetime(df['hora'])\n",
    "df['hora_do_dia'] = df['hora'].dt.hour\n",
    "df['dia'] = df['hora'].dt.date"
   ]
  },
  {
   "cell_type": "code",
   "execution_count": 354,
   "metadata": {},
   "outputs": [
    {
     "data": {
      "image/png": "[encoded data removed]",
      "text/plain": [
       "<Figure size 1152x648 with 1 Axes>"
      ]
     },
     "metadata": {
      "needs_background": "light"
     },
     "output_type": "display_data"
    },
    {
     "data": {
      "image/png": "[encoded data removed]",
      "text/plain": [
       "<Figure size 1152x648 with 1 Axes>"
      ]
     },
     "metadata": {
      "needs_background": "light"
     },
     "output_type": "display_data"
    }
   ],
   "source": [
    "# Histograma de eventos por hora do dia\n",
    "plt.figure(figsize=(16,9))\n",
    "sns.histplot(df['hora_do_dia'], bins=24, kde=False)\n",
    "plt.title('Distribuição de Eventos por Hora do Dia')\n",
    "plt.xlabel('Hora do Dia')\n",
    "plt.ylabel('Contagem de Eventos')\n",
    "plt.grid(True)\n",
    "plt.show()\n",
    "\n",
    "# Histograma de eventos por dia\n",
    "plt.figure(figsize=(16,9))\n",
    "sns.histplot(df['dia'], bins=int((df['dia'].max() - df['dia'].min()).days), kde=False)\n",
    "plt.title('Distribuição de Eventos por Dia')\n",
    "plt.xlabel('Dia')\n",
    "plt.ylabel('Contagem de Eventos')\n",
    "plt.grid(True)\n",
    "plt.show()\n"
   ]
  },
  {
   "cell_type": "markdown",
   "metadata": {},
   "source": [
    "Pode-ser perceber que a partir da data de 29-07-2019 os dados começam a fazer sentido e tem valores que tem o mínimo de significância. Vamos filtrar e ver a diferença de volume de dados antigos e novos"
   ]
  },
  {
   "cell_type": "markdown",
   "metadata": {},
   "source": [
    "<div class=\"alert alert-block alert-success\">\n",
    "<b> Comentário do revisor: </b> <a class=\"tocSkip\"></a>\n",
    "\n",
    "Correto\n",
    "</div>\n"
   ]
  },
  {
   "cell_type": "code",
   "execution_count": 355,
   "metadata": {},
   "outputs": [],
   "source": [
    "# Filtrando df em nova df\n",
    "df_filtrada = df[df['data'] >= '2019-07-29']"
   ]
  },
  {
   "cell_type": "code",
   "execution_count": 356,
   "metadata": {},
   "outputs": [
    {
     "name": "stdout",
     "output_type": "stream",
     "text": [
      "<class 'pandas.core.frame.DataFrame'>\n",
      "Int64Index: 243926 entries, 200 to 244125\n",
      "Data columns (total 7 columns):\n",
      " #   Column       Non-Null Count   Dtype         \n",
      "---  ------       --------------   -----         \n",
      " 0   nome_evento  243926 non-null  object        \n",
      " 1   id_unico     243926 non-null  int64         \n",
      " 2   hora         243926 non-null  datetime64[ns]\n",
      " 3   num_exp      243926 non-null  int64         \n",
      " 4   data         243926 non-null  datetime64[ns]\n",
      " 5   hora_do_dia  243926 non-null  int64         \n",
      " 6   dia          243926 non-null  object        \n",
      "dtypes: datetime64[ns](2), int64(3), object(2)\n",
      "memory usage: 14.9+ MB\n",
      "<class 'pandas.core.frame.DataFrame'>\n",
      "RangeIndex: 244126 entries, 0 to 244125\n",
      "Data columns (total 7 columns):\n",
      " #   Column       Non-Null Count   Dtype         \n",
      "---  ------       --------------   -----         \n",
      " 0   nome_evento  244126 non-null  object        \n",
      " 1   id_unico     244126 non-null  int64         \n",
      " 2   hora         244126 non-null  datetime64[ns]\n",
      " 3   num_exp      244126 non-null  int64         \n",
      " 4   data         244126 non-null  datetime64[ns]\n",
      " 5   hora_do_dia  244126 non-null  int64         \n",
      " 6   dia          244126 non-null  object        \n",
      "dtypes: datetime64[ns](2), int64(3), object(2)\n",
      "memory usage: 13.0+ MB\n"
     ]
    }
   ],
   "source": [
    "# Informações\n",
    "df_filtrada.info()\n",
    "df.info()"
   ]
  },
  {
   "cell_type": "markdown",
   "metadata": {},
   "source": [
    "Podemos perceber que não há uma grande perda em nossos dados específicos. Logo podemos continuar com o filtro direto em nossa df normal."
   ]
  },
  {
   "cell_type": "markdown",
   "metadata": {},
   "source": [
    "<div class=\"alert alert-block alert-success\">\n",
    "<b> Comentário do revisor: </b> <a class=\"tocSkip\"></a>\n",
    "\n",
    "Correto\n",
    "</div>\n"
   ]
  },
  {
   "cell_type": "code",
   "execution_count": 357,
   "metadata": {},
   "outputs": [],
   "source": [
    "# Filtrando df em nova df\n",
    "df = df[df['data'] >= '2019-07-29']"
   ]
  },
  {
   "cell_type": "markdown",
   "metadata": {},
   "source": [
    "Vamos analisar os grupos para garantir que hajam usuários igualitários em todos os grupos"
   ]
  },
  {
   "cell_type": "code",
   "execution_count": 358,
   "metadata": {},
   "outputs": [
    {
     "data": {
      "text/plain": [
       "num_exp\n",
       "246    2487\n",
       "247    2520\n",
       "248    2541\n",
       "Name: id_unico, dtype: int64"
      ]
     },
     "execution_count": 358,
     "metadata": {},
     "output_type": "execute_result"
    }
   ],
   "source": [
    "# Calculando o número de usuários para cada grupo\n",
    "usuarios_unicos_por_grupo = df.groupby('num_exp')['id_unico'].nunique()\n",
    "\n",
    "# Mostrando\n",
    "usuarios_unicos_por_grupo"
   ]
  },
  {
   "cell_type": "markdown",
   "metadata": {},
   "source": [
    "Podemos perceber que a base de teste está desbalanceada para o teste, assim iremos excluir os usuários menos relevantes dos grupos 247 e 248 padronizando no volume de dados do grupo 246."
   ]
  },
  {
   "cell_type": "markdown",
   "metadata": {},
   "source": [
    "<div class=\"alert alert-block alert-success\">\n",
    "<b> Comentário do revisor: </b> <a class=\"tocSkip\"></a>\n",
    "\n",
    "Correto. Não acho válido excluir. As diferenças são muito pequenas.\n",
    "</div>\n"
   ]
  },
  {
   "cell_type": "code",
   "execution_count": 359,
   "metadata": {},
   "outputs": [],
   "source": [
    "# Agrupando o dataframe por 'num_exp' e 'id_unico', contando as ocorrências\n",
    "grouped = df.groupby(['num_exp', 'id_unico']).size().reset_index(name='counts')\n",
    "\n",
    "# Encontrando o número de usuários no grupo 246\n",
    "num_users_246 = grouped[grouped['num_exp'] == 246]['id_unico'].nunique()\n",
    "\n",
    "# Separando os grupos 247 e 248\n",
    "group_247 = grouped[grouped['num_exp'] == 247]\n",
    "group_248 = grouped[grouped['num_exp'] == 248]\n",
    "\n",
    "# Ordenando os grupos por 'counts' em ordem decrescente e mantendo somente os primeiros 'num_users_246' registros\n",
    "balanced_247 = group_247.sort_values('counts', ascending=True).head(num_users_246)\n",
    "balanced_248 = group_248.sort_values('counts', ascending=True).head(num_users_246)\n",
    "\n",
    "# Juntando os grupos balanceados e o grupo 246\n",
    "balanced_grouped = pd.concat([grouped[grouped['num_exp'] == 246], balanced_247, balanced_248])\n",
    "\n",
    "# Filtrando o dataframe original para conter apenas os registros presentes no dataframe balanceado\n",
    "filtered_df = df[df['id_unico'].isin(balanced_grouped['id_unico'])]"
   ]
  },
  {
   "cell_type": "markdown",
   "metadata": {},
   "source": [
    "<div class=\"alert alert-block alert-success\">\n",
    "<b> Comentário do revisor: </b> <a class=\"tocSkip\"></a>\n",
    "\n",
    "Correto. Porém, o ideal seria remover aleatoriamente. da forma uqe você fez, pode introduzir viés.\n",
    "</div>\n"
   ]
  },
  {
   "cell_type": "code",
   "execution_count": 360,
   "metadata": {},
   "outputs": [
    {
     "data": {
      "text/plain": [
       "num_exp\n",
       "246    2487\n",
       "247    2487\n",
       "248    2487\n",
       "Name: id_unico, dtype: int64"
      ]
     },
     "execution_count": 360,
     "metadata": {},
     "output_type": "execute_result"
    }
   ],
   "source": [
    "# Calculando o número de usuários para cada grupo\n",
    "usuarios_unicos_por_grupo = filtered_df.groupby('num_exp')['id_unico'].nunique()\n",
    "\n",
    "# Mostrando\n",
    "usuarios_unicos_por_grupo"
   ]
  },
  {
   "cell_type": "markdown",
   "metadata": {},
   "source": [
    "<div class=\"alert alert-block alert-success\">\n",
    "<b> Comentário do revisor: </b> <a class=\"tocSkip\"></a>\n",
    "\n",
    "Correto\n",
    "</div>\n"
   ]
  },
  {
   "cell_type": "markdown",
   "metadata": {},
   "source": [
    "Nosso filtro funcionou, iremos aplicar em nossa df original."
   ]
  },
  {
   "cell_type": "code",
   "execution_count": 361,
   "metadata": {},
   "outputs": [],
   "source": [
    "# Filtrando o dataframe original para conter apenas os registros presentes no dataframe balanceado\n",
    "df = df[df['id_unico'].isin(balanced_grouped['id_unico'])]"
   ]
  },
  {
   "cell_type": "markdown",
   "metadata": {},
   "source": [
    "**Conclusão**\n",
    "\n",
    "* Os dados foram fitlrados após a data de 29/07 pois tem maior representatividade;\n",
    "\n",
    "* A distribuição dos horários de evento mostram que os acessos ocorrem mais no meio do dia, apx, as 15h.\n",
    "\n",
    "* A curva de distribuição dos horários é do tipo normal."
   ]
  },
  {
   "cell_type": "markdown",
   "metadata": {},
   "source": [
    "<div class=\"alert alert-block alert-success\">\n",
    "<b> Comentário do revisor: </b> <a class=\"tocSkip\"></a>\n",
    "\n",
    "Correto\n",
    "</div>\n"
   ]
  },
  {
   "cell_type": "markdown",
   "metadata": {},
   "source": [
    "**Conclusão Geral**\n",
    "\n",
    "Com base nas análises realizadas, podemos tirar algumas conclusões importantes:\n",
    "\n",
    "1. Os dados foram filtrados após a data de 29/07, pois essa data demonstrou uma maior representatividade em termos de eventos. Portanto, concentramos nossa análise nesse período mais relevante.\n",
    "\n",
    "2. Ao analisar a distribuição dos horários de evento, observamos que os acessos ocorrem com maior frequência em torno das 15h, indicando um pico de atividade nesse horário.\n",
    "\n",
    "3. A curva de distribuição dos horários segue uma distribuição normal, o que indica um padrão consistente nos horários de acesso dos usuários.\n",
    "\n",
    "4. O número médio de eventos por usuário diariamente é de 32 eventos. Essa média nos dá uma ideia da atividade média dos usuários ao longo do dia.\n",
    "\n",
    "5. Observamos que cada usuário tem a tendência de realizar cerca de 10 acessos diários, indicando um padrão de comportamento em relação ao número de eventos por usuário.\n",
    "\n",
    "6. A curva de distribuição dos eventos por usuário não segue uma distribuição normal, sugerindo que a mediana pode ser mais adequada para representar os dados centrais, em vez da média.\n",
    "\n",
    "7. Ao calcular o número médio de usuários por dia, encontramos uma média de cerca de 1944 usuários diários durante o período analisado.\n",
    "\n",
    "8. A distribuição dos eventos por grupo experimental mostra que os eventos foram distribuídos de forma diferente entre os grupos 246, 247 e 248. O grupo 246 teve a maior contagem de eventos na maioria dos dias, seguido pelo grupo 247 e 248.\n",
    "\n",
    "9. Notamos um aumento significativo no número de eventos a partir do dia 31 de julho. Esse aumento pode indicar algum fator externo, como uma campanha de marketing específica ou uma divulgação especial que impactou o número de eventos registrados.\n",
    "\n",
    "10. Também identificamos um número máximo de 3922 eventos por dia, o que pode indicar um pico de atividade em algum momento específico.\n",
    "\n",
    "Essas conclusões nos fornecem insights valiosos sobre o comportamento dos usuários e a distribuição dos eventos ao longo do período analisado. Com base nessas informações, podemos tomar decisões estratégicas e explorar oportunidades para otimizar a experiência do usuário e melhorar os resultados."
   ]
  },
  {
   "cell_type": "markdown",
   "metadata": {},
   "source": [
    "<div class=\"alert alert-block alert-success\">\n",
    "<b> Comentário do revisor: </b> <a class=\"tocSkip\"></a>\n",
    "\n",
    "Boas conclusões\n",
    "</div>\n"
   ]
  },
  {
   "cell_type": "markdown",
   "metadata": {},
   "source": [
    "## Estudo do funil de eventos\n",
    "\n",
    "Iremos estudar o funil seguindo os passos:\n",
    "\n",
    "* Vamos ver quais eventos estão nos diários e qual é a frequência de ocorrência de cada um. Vamos classificá-los por ordem de frequência.\n",
    "* Vamos encontrar o número de usuários que realizaram cada uma dessas ações e ordenar os eventos com base nesse número de usuários. Também iremos calcular a proporção de usuários que executaram cada ação pelo menos uma vez.\n",
    "* Em nossa análise, vamos tentar identificar a ordem em que acreditamos que as ações ocorreram. No entanto, é importante destacar que essas ações podem não fazer parte de uma única sequência, e não precisamos considerá-las ao calcular o funil.\n",
    "* Utilizaremos o funil de eventos para determinar a proporção de usuários que avançam de uma etapa para a próxima. Por exemplo, para a sequência de eventos A → B → C, calcularemos a proporção de usuários na etapa B em relação ao número de usuários na etapa A, e a proporção de usuários na etapa C em relação ao número de usuários na etapa B.\n",
    "* Vamos identificar em qual fase do funil perdemos a maior quantidade de usuários. Isso nos ajudará a entender em que ponto do processo de conversão há maior dificuldade ou queda no engajamento.\n",
    "* Vamos calcular a parcela de usuários que completa todo o caminho, desde o primeiro evento até o pagamento. Isso nos dará uma ideia da taxa de conversão ao longo do funil e da eficácia geral do processo de conversão."
   ]
  },
  {
   "cell_type": "markdown",
   "metadata": {},
   "source": [
    "###  Eventos estão nos diários e qual é a frequência de ocorrência de cada um. Vamos classificá-los por ordem de frequência."
   ]
  },
  {
   "cell_type": "code",
   "execution_count": 362,
   "metadata": {},
   "outputs": [
    {
     "data": {
      "image/png": "[encoded data removed]",
      "text/plain": [
       "<Figure size 1152x648 with 1 Axes>"
      ]
     },
     "metadata": {
      "needs_background": "light"
     },
     "output_type": "display_data"
    }
   ],
   "source": [
    "# Dados do gráfico\n",
    "x = df['nome_evento'].unique()\n",
    "y = df['nome_evento'].value_counts()\n",
    "\n",
    "# Configurar tamanho da figura para 16:9\n",
    "plt.figure(figsize=(16, 9))\n",
    "\n",
    "# Plotar gráfico de barras\n",
    "plt.bar(x, y)\n",
    "\n",
    "# Configurar nome dos eixos\n",
    "plt.xlabel('Nome do Evento')\n",
    "plt.ylabel('Contagem')\n",
    "\n",
    "# Configurar título do gráfico\n",
    "plt.title('Contagem de Eventos')\n",
    "\n",
    "# Configurar legenda\n",
    "plt.legend(['Eventos'])\n",
    "\n",
    "# Exibir o gráfico\n",
    "plt.show()"
   ]
  },
  {
   "cell_type": "markdown",
   "metadata": {},
   "source": [
    "<div class=\"alert alert-block alert-success\">\n",
    "<b> Comentário do revisor: </b> <a class=\"tocSkip\"></a>\n",
    "\n",
    "Correto\n",
    "</div>\n"
   ]
  },
  {
   "cell_type": "code",
   "execution_count": 363,
   "metadata": {},
   "outputs": [
    {
     "data": {
      "text/plain": [
       "MainScreenAppear           114292\n",
       "OffersScreenAppear          40895\n",
       "CartScreenAppear            32879\n",
       "PaymentScreenSuccessful     25578\n",
       "Tutorial                     1027\n",
       "Name: nome_evento, dtype: int64"
      ]
     },
     "execution_count": 363,
     "metadata": {},
     "output_type": "execute_result"
    }
   ],
   "source": [
    "# Valores\n",
    "df['nome_evento'].value_counts()"
   ]
  },
  {
   "cell_type": "markdown",
   "metadata": {},
   "source": [
    "**Conclusão**\n",
    "\n",
    "* Podemos observar que o Funil de eventos tem o um seguimento da página principal até o Tutorial\n",
    "\n",
    "* O começo do funil é a página principal e é onde tem o maior número de acessos\n",
    "\n",
    "* O Tutorial o Final do Funil e tem o menor número\n",
    "\n",
    "* A perda do começo do Funil ao final temos uma perda de aproximadamente 100x."
   ]
  },
  {
   "cell_type": "markdown",
   "metadata": {},
   "source": [
    "<div class=\"alert alert-block alert-success\">\n",
    "<b> Comentário do revisor: </b> <a class=\"tocSkip\"></a>\n",
    "\n",
    "Correto\n",
    "</div>\n"
   ]
  },
  {
   "cell_type": "markdown",
   "metadata": {},
   "source": [
    "###  Número de usuários que executaram cada uma dessas ações. Ordene os eventos pelo número de usuários. Calcule a proporção de usuários que executaram a ação pelo menos uma vez."
   ]
  },
  {
   "cell_type": "code",
   "execution_count": 364,
   "metadata": {},
   "outputs": [
    {
     "name": "stdout",
     "output_type": "stream",
     "text": [
      "Número de usuários por ação:\n",
      " nome_evento\n",
      "MainScreenAppear           7349\n",
      "OffersScreenAppear         4526\n",
      "CartScreenAppear           3664\n",
      "PaymentScreenSuccessful    3463\n",
      "Tutorial                    830\n",
      "Name: id_unico, dtype: int64\n",
      "\n",
      "Proporção de usuários que executaram cada ação pelo menos uma vez:\n",
      " nome_evento\n",
      "CartScreenAppear           0.491087\n",
      "MainScreenAppear           0.984989\n",
      "OffersScreenAppear         0.606621\n",
      "PaymentScreenSuccessful    0.464147\n",
      "Tutorial                   0.111245\n",
      "Name: id_unico, dtype: float64\n"
     ]
    }
   ],
   "source": [
    "# Número de usuários que executaram cada ação\n",
    "action_counts = df.groupby('nome_evento')['id_unico'].nunique()\n",
    "\n",
    "# Ordenar os eventos pelo número de usuários\n",
    "action_counts_sorted = action_counts.sort_values(ascending=False)\n",
    "\n",
    "# Proporção de usuários que executaram a ação pelo menos uma vez\n",
    "total_users = df['id_unico'].nunique()\n",
    "action_proportions = action_counts / total_users\n",
    "\n",
    "print(\"Número de usuários por ação:\\n\", action_counts_sorted)\n",
    "print(\"\\nProporção de usuários que executaram cada ação pelo menos uma vez:\\n\", action_proportions)"
   ]
  },
  {
   "cell_type": "markdown",
   "metadata": {},
   "source": [
    "<div class=\"alert alert-block alert-success\">\n",
    "<b> Comentário do revisor: </b> <a class=\"tocSkip\"></a>\n",
    "\n",
    "Correto. Seria melhor ter plotado gráficos\n",
    "</div>\n"
   ]
  },
  {
   "cell_type": "markdown",
   "metadata": {},
   "source": [
    "**Conclusão**\n",
    "\n",
    "Com base nos cálculos realizados a partir dos dados fornecidos, temos as seguintes observações:\n",
    "\n",
    "- A ação mais comum executada pelos usuários é `MainScreenAppear`, com 7349 usuários únicos envolvidos. Isso é esperado, pois normalmente todos os usuários terão que passar pela tela principal ao interagir com o aplicativo ou o site.\n",
    "\n",
    "- A segunda ação mais comum é `OffersScreenAppear`, executada por 4526 usuários únicos. Isso mostra que um bom número de usuários está interessado nas ofertas disponíveis.\n",
    "\n",
    "- A ação `CartScreenAppear` foi executada por 3664 usuários únicos, sugerindo que esses usuários possuem intenção de comprar ou pelo menos estavam interessados em adicionar itens ao carrinho.\n",
    "\n",
    "- `PaymentScreenSuccessful` foi a ação executada por 3463 usuários únicos. Este número é bastante próximo do número de usuários que executaram `CartScreenAppear`, indicando uma alta taxa de conversão de usuários que adicionam itens ao carrinho para aqueles que concluem o pagamento.\n",
    "\n",
    "- A ação `Tutorial` foi a menos executada, com apenas 830 usuários únicos. Isso pode sugerir que a maioria dos usuários não sente a necessidade de visualizar o tutorial, ou talvez o acesso ao tutorial não seja intuitivo.\n",
    "\n",
    "Em termos de proporções:\n",
    "\n",
    "- Quase todos os usuários (98,5%) passaram pela tela principal pelo menos uma vez.\n",
    "\n",
    "- 60,7% dos usuários visualizaram a tela de ofertas pelo menos uma vez.\n",
    "\n",
    "- Cerca de metade dos usuários (49,1%) visualizou a tela do carrinho de compras.\n",
    "\n",
    "- 46,4% dos usuários tiveram pelo menos um pagamento bem-sucedido.\n",
    "\n",
    "- Apenas 11,1% dos usuários visualizaram o tutorial pelo menos uma vez.\n",
    "\n",
    "Essas informações nos ajudam a entender melhor o comportamento dos usuários e podem ser úteis para melhorar a experiência do usuário e otimizar as conversões.\n",
    "\n",
    "\n",
    "A ordem das ações parece ser:\n",
    "\n",
    "MainScreenAppear --> OffersScreenAppear --> CartScreenAppear --> PaymentScreenSuccessful --> Tutorial\n"
   ]
  },
  {
   "cell_type": "markdown",
   "metadata": {},
   "source": [
    "<div class=\"alert alert-block alert-success\">\n",
    "<b> Comentário do revisor: </b> <a class=\"tocSkip\"></a>\n",
    "\n",
    "Boas conclusões\n",
    "</div>\n"
   ]
  },
  {
   "cell_type": "markdown",
   "metadata": {},
   "source": [
    "### Usando o funil de eventos para encontrar a parcela de usuários que passam de uma etapa para a próxima."
   ]
  },
  {
   "cell_type": "code",
   "execution_count": 365,
   "metadata": {},
   "outputs": [
    {
     "name": "stdout",
     "output_type": "stream",
     "text": [
      "MainScreenAppear                NaN\n",
      "OffersScreenAppear         0.615866\n",
      "CartScreenAppear           0.809545\n",
      "PaymentScreenSuccessful    0.945142\n",
      "Tutorial                   0.239677\n",
      "dtype: float64\n"
     ]
    },
    {
     "name": "stderr",
     "output_type": "stream",
     "text": [
      "/tmp/ipykernel_44/3033866426.py:8: DeprecationWarning: The default dtype for empty Series will be 'object' instead of 'float64' in a future version. Specify a dtype explicitly to silence this warning.\n",
      "  funnel_proportions = pd.Series(index=event_order)\n"
     ]
    }
   ],
   "source": [
    "# Definindo a ordem dos eventos\n",
    "event_order = ['MainScreenAppear', 'OffersScreenAppear', 'CartScreenAppear', 'PaymentScreenSuccessful', 'Tutorial']\n",
    "\n",
    "# Calculando o número de usuários únicos em cada etapa\n",
    "unique_users_per_event = df.groupby('nome_evento')['id_unico'].nunique()\n",
    "\n",
    "# Calculando as proporções\n",
    "funnel_proportions = pd.Series(index=event_order)\n",
    "for i in range(1, len(event_order)):\n",
    "    funnel_proportions[event_order[i]] = unique_users_per_event[event_order[i]] / unique_users_per_event[event_order[i-1]]\n",
    "\n",
    "print(funnel_proportions)"
   ]
  },
  {
   "cell_type": "markdown",
   "metadata": {},
   "source": [
    "<div class=\"alert alert-block alert-success\">\n",
    "<b> Comentário do revisor: </b> <a class=\"tocSkip\"></a>\n",
    "\n",
    "Correto. Porém, vocẽ poderia ter usado df.shift() para deslocar e então parear df[i] e df[i-1] e e calcular sem usar loop.\n",
    "</div>\n"
   ]
  },
  {
   "cell_type": "code",
   "execution_count": 366,
   "metadata": {},
   "outputs": [
    {
     "name": "stdout",
     "output_type": "stream",
     "text": [
      "0.11294053612736425\n"
     ]
    }
   ],
   "source": [
    "# Proporção final\n",
    "total_proportion = (funnel_proportions['OffersScreenAppear'] *\n",
    "                    funnel_proportions['CartScreenAppear'] *\n",
    "                    funnel_proportions['PaymentScreenSuccessful']* funnel_proportions['Tutorial'])\n",
    "\n",
    "print(total_proportion)"
   ]
  },
  {
   "cell_type": "markdown",
   "metadata": {},
   "source": [
    "<div class=\"alert alert-block alert-success\">\n",
    "<b> Comentário do revisor: </b> <a class=\"tocSkip\"></a>\n",
    "\n",
    "Correto\n",
    "</div>\n"
   ]
  },
  {
   "cell_type": "markdown",
   "metadata": {},
   "source": [
    "**Conclusão**\n",
    "\n",
    "Com base nos dados do funil de eventos e no cálculo da proporção total, podemos concluir o seguinte:\n",
    "\n",
    "1. A fase em que perdemos a maior parte dos usuários é a transição do evento `MainScreenAppear` para `OffersScreenAppear`. A proporção de usuários que passam dessa etapa para a próxima é de aproximadamente 0.616, o que significa que apenas cerca de 61,6% dos usuários que acessam a tela principal avançam para visualizar as ofertas. Isso representa uma perda considerável de usuários e sugere que talvez devamos tornar as ofertas mais visíveis ou atraentes na tela principal para encorajar mais usuários a avançar para a próxima etapa.\n",
    "\n",
    "2. A parcela de usuários que segue todo o caminho, desde o primeiro evento (`MainScreenAppear`) até o pagamento (`PaymentScreenSuccessful`), é de cerca de 0.113 ou 11,3% (conforme calculado pela `total_proportion`). Isso significa que, de todos os usuários que acessam a tela principal, cerca de 11,3% deles acabam fazendo um pagamento bem-sucedido. Enquanto a taxa de conversão pode parecer baixa, a adequação desse número depende muito do tipo de produto ou serviço que estamos oferecendo. Pode ser útil comparar essa taxa de conversão com as taxas de conversão padrão para a indústria específica para avaliar o desempenho do nosso funil de vendas. \n",
    "\n",
    "Essas informações são úteis para identificar onde estão as maiores perdas no funil de eventos e para implementar estratégias para melhorar a retenção e a conversão de usuários."
   ]
  },
  {
   "cell_type": "markdown",
   "metadata": {},
   "source": [
    "<div class=\"alert alert-block alert-success\">\n",
    "<b> Comentário do revisor: </b> <a class=\"tocSkip\"></a>\n",
    "\n",
    "Boas conclusões\n",
    "</div>\n"
   ]
  },
  {
   "cell_type": "markdown",
   "metadata": {},
   "source": [
    "**Conclusão Geral**\n",
    "\n",
    "Com base nas conclusões intermediárias e nos dados do funil de eventos, podemos observar o seguinte:\n",
    "\n",
    "1. A transição do evento MainScreenAppear para OffersScreenAppear é onde perdemos a maior parte dos usuários, com uma proporção de cerca de 61,6%. Isso indica uma perda significativa de usuários nessa etapa do funil. É importante analisar as razões por trás dessa queda e considerar estratégias para melhorar a taxa de conversão nessa transição.\n",
    "\n",
    "2. A parcela de usuários que segue todo o caminho, desde o primeiro evento (MainScreenAppear) até o pagamento bem-sucedido (PaymentScreenSuccessful), representa aproximadamente 11,3% do total de usuários. Embora essa taxa de conversão possa parecer baixa, é importante considerar o contexto do produto ou serviço oferecido. Comparar essa taxa de conversão com benchmarks do setor pode fornecer uma visão mais precisa do desempenho do funil.\n",
    "\n",
    "3. A análise do funil de eventos mostra uma sequência clara das ações executadas pelos usuários: MainScreenAppear, OffersScreenAppear, CartScreenAppear, PaymentScreenSuccessful e Tutorial. Essa sequência indica a jornada típica do usuário no aplicativo ou site.\n",
    "\n",
    "4. A perda de usuários ao longo do funil é significativa, com uma redução de aproximadamente 100 vezes do número de usuários da página principal até o tutorial. Isso destaca a importância de otimizar cada etapa do funil para maximizar a retenção e a conversão de usuários.\n",
    "\n",
    "Essas conclusões nos fornecem insights sobre o comportamento dos usuários em relação ao funil de eventos e destacam áreas de oportunidade para melhorar a experiência do usuário e aumentar as taxas de conversão. É fundamental acompanhar e analisar regularmente o desempenho do funil para identificar pontos de atrito e implementar estratégias eficazes de retenção e conversão."
   ]
  },
  {
   "cell_type": "markdown",
   "metadata": {},
   "source": [
    "<div class=\"alert alert-block alert-success\">\n",
    "<b> Comentário do revisor: </b> <a class=\"tocSkip\"></a>\n",
    "\n",
    "Correto\n",
    "</div>\n"
   ]
  },
  {
   "cell_type": "markdown",
   "metadata": {},
   "source": [
    "## Estudando os resultados do experimento\n",
    "\n",
    "Para avaliar nosso estudo e os experimentos gerados iremos analisar os seguintes pontos:\n",
    "\n",
    "\n",
    "* Quantos usuários há em cada grupo?\n",
    "* \t\tTemos dois grupos de controle no teste A/A, no qual verificamos nossos mecanismos e cálculos. Veja se há uma diferença estatisticamente significativa entre as amostragens 246 e 247.\n",
    "* \t\tSelecione o evento mais popular. Em cada um dos grupos de controle, encontre o número de usuários que realizaram essa ação. Encontre a proporção deles. Verifique se a diferença entre os grupos é estatisticamente significativa. Repita o procedimento para todos os outros eventos (economizará tempo se você criar uma função especial para este teste). Você pode confirmar se os grupos foram divididos corretamente?\n",
    "* \t\tFaça a mesma coisa para o grupo com fontes alteradas. Compare os resultados com os de cada um dos grupos de controle para cada evento isoladamente. Compare os resultados com os resultados combinados para os grupos de controle. Quais conclusões você pode tirar do experimento?\n",
    "* \t\tQual nível de significância você definiu para testar as hipóteses estatísticas mencionadas acima? Calcule quantos testes de hipóteses estatísticas você realizou. Com um nível de significância estatística de 0,1, um de cada 10 resultados pode ser falso. Qual deveria ser o nível de significância?Se você quiser alterá-lo, execute as etapas anteriores novamente e verifique suas conclusões."
   ]
  },
  {
   "cell_type": "markdown",
   "metadata": {},
   "source": [
    "### Usuários em cada grupo\n",
    "\n",
    "Já havíamos padronizado anteriromente, mas iremos gerar novamente para visualização"
   ]
  },
  {
   "cell_type": "code",
   "execution_count": 367,
   "metadata": {},
   "outputs": [
    {
     "data": {
      "text/plain": [
       "num_exp\n",
       "246    2487\n",
       "247    2487\n",
       "248    2487\n",
       "Name: id_unico, dtype: int64"
      ]
     },
     "execution_count": 367,
     "metadata": {},
     "output_type": "execute_result"
    }
   ],
   "source": [
    "# Calculando o número de usuários para cada grupo\n",
    "usuarios_unicos_por_grupo = filtered_df.groupby('num_exp')['id_unico'].nunique()\n",
    "\n",
    "# Mostrando\n",
    "usuarios_unicos_por_grupo"
   ]
  },
  {
   "cell_type": "markdown",
   "metadata": {},
   "source": [
    "<div class=\"alert alert-block alert-success\">\n",
    "<b> Comentário do revisor: </b> <a class=\"tocSkip\"></a>\n",
    "\n",
    "Correto\n",
    "</div>\n"
   ]
  },
  {
   "cell_type": "markdown",
   "metadata": {},
   "source": [
    "**Conclusão**\n",
    "\n",
    "Para melhor equilibrio da base de testes fizemos a padronização do mesmo número de usuários para cada grupo ficando que cada grupo tem um tamanho de amostra de usuários de 2487."
   ]
  },
  {
   "cell_type": "markdown",
   "metadata": {},
   "source": [
    "<div class=\"alert alert-block alert-success\">\n",
    "<b> Comentário do revisor: </b> <a class=\"tocSkip\"></a>\n",
    "\n",
    "Correto\n",
    "</div>\n"
   ]
  },
  {
   "cell_type": "markdown",
   "metadata": {},
   "source": [
    "### Os grupos de controle no teste A/A, no qual verificamos nossos mecanismos e cálculos. Veja se há uma diferença estatisticamente significativa entre as amostragens 246 e 247.\n",
    "\n",
    "O teste de hipóteses é um procedimento estatístico fundamental que nos permite tomar uma decisão entre duas hipóteses opostas: a hipótese nula (H0) e a hipótese alternativa (Ha). No contexto do meu projeto, desejo comparar a proporção de usuários que avançam por todo o funil entre os grupos 246 e 247.\n",
    "\n",
    "A hipótese nula (H0) afirma que a proporção de usuários que avançam por todo o funil é a mesma nos grupos 246 e 247. Por outro lado, a hipótese alternativa (Ha) afirma que essa proporção difere entre os grupos.\n",
    "\n",
    "Para realizar essa análise, calculei as proporções correspondentes para cada grupo e executei o teste t. O resultado obtido foi o valor-p, que representa a probabilidade de observar uma diferença tão grande, ou ainda maior, entre as proporções, considerando que a hipótese nula seja verdadeira.\n",
    "\n",
    "Com base no valor-p obtido, comparo-o com um nível de significância pré-determinado (geralmente 0,05). Se o valor-p for menor que esse nível de significância, rejeito a hipótese nula, indicando que há uma diferença estatisticamente significativa entre as proporções dos grupos 246 e 247. No entanto, se o valor-p for maior que o nível de significância, não tenho evidências suficientes para rejeitar a hipótese nula, sugerindo que não há uma diferença estatisticamente significativa entre as proporções.\n",
    "\n",
    "É importante ressaltar que rejeitar a hipótese nula não prova definitivamente que a hipótese alternativa é verdadeira. Isso apenas indica que, com base nos dados analisados, a diferença observada entre as proporções é improvável de ser devida ao acaso, caso a hipótese nula seja verdadeira.\n",
    "\n",
    "Por fim, é crucial ter em mente que o valor-p não fornece informações sobre o tamanho ou a relevância prática dessa diferença. Ele apenas indica a força das evidências contra a hipótese nula, baseando-se nos dados disponíveis no meu projeto."
   ]
  },
  {
   "cell_type": "markdown",
   "metadata": {},
   "source": [
    "<div class=\"alert alert-block alert-success\">\n",
    "<b> Comentário do revisor: </b> <a class=\"tocSkip\"></a>\n",
    "\n",
    "Correto, mas aqui você mencionou teste t em vez de z\n",
    "</div>\n"
   ]
  },
  {
   "cell_type": "code",
   "execution_count": 368,
   "metadata": {},
   "outputs": [],
   "source": [
    "def run_z_test(df, event_name, group1, group2):\n",
    "    proportions = calculate_proportions(df, event_name)\n",
    "    group1_count = df[(df['num_exp'] == group1) & (df['nome_evento'] == event_name)]['id_unico'].nunique()\n",
    "    group2_count = df[(df['num_exp'] == group2) & (df['nome_evento'] == event_name)]['id_unico'].nunique()\n",
    "    group1_total = df[df['num_exp'] == group1]['id_unico'].nunique()\n",
    "    group2_total = df[df['num_exp'] == group2]['id_unico'].nunique()\n",
    "    z_stat, p_value = proportions_ztest([group1_count, group2_count], [group1_total, group2_total])\n",
    "    return z_stat, p_value"
   ]
  },
  {
   "cell_type": "markdown",
   "metadata": {},
   "source": [
    "<div class=\"alert alert-block alert-success\">\n",
    "<b> Comentário do revisor: </b> <a class=\"tocSkip\"></a>\n",
    "\n",
    "Correto\n",
    "</div>\n"
   ]
  },
  {
   "cell_type": "markdown",
   "metadata": {},
   "source": [
    "#### **Teste comparativo para 246 e 247**"
   ]
  },
  {
   "cell_type": "code",
   "execution_count": 369,
   "metadata": {},
   "outputs": [
    {
     "name": "stdout",
     "output_type": "stream",
     "text": [
      "Group: 246, Event Count: 2454, Total Count: 2487, Proportion: 0.9867310012062727\n",
      "Group: 247, Event Count: 2449, Total Count: 2487, Proportion: 0.9847205468435867\n",
      "Group: 248, Event Count: 2446, Total Count: 2487, Proportion: 0.983514274225975\n",
      "Z-statistic: 0.5976718121891912, P-value: 0.5500589372572404\n"
     ]
    }
   ],
   "source": [
    "# Verificar se há uma diferença estatisticamente significativa entre as amostragens 246 e 247\n",
    "z_stat, p_val = run_z_test(df, 'MainScreenAppear', 246, 247)\n",
    "print(f'Z-statistic: {z_stat}, P-value: {p_val}')"
   ]
  },
  {
   "cell_type": "markdown",
   "metadata": {},
   "source": [
    "* Hipótese Nula (H0): Não há diferença estatisticamente significativa na proporção de usuários que chegam à \"MainScreenAppear\" entre as amostras 246 e 247. Qualquer diferença é devida ao acaso.\n",
    "\n",
    "* Hipótese Alternativa (H1): Há uma diferença estatisticamente significativa na proporção de usuários que chegam à \"MainScreenAppear\" entre as amostras 246 e 247. A diferença não é devida ao acaso.\n"
   ]
  },
  {
   "cell_type": "markdown",
   "metadata": {},
   "source": [
    "<div class=\"alert alert-block alert-success\">\n",
    "<b> Comentário do revisor: </b> <a class=\"tocSkip\"></a>\n",
    "\n",
    "Correto\n",
    "</div>\n"
   ]
  },
  {
   "cell_type": "code",
   "execution_count": 371,
   "metadata": {},
   "outputs": [
    {
     "name": "stdout",
     "output_type": "stream",
     "text": [
      "Não rejeitamos a hipótese nula. Não há diferença estatisticamente significativa entre as amostras.\n"
     ]
    }
   ],
   "source": [
    "# Estabelecendo o nível de significância\n",
    "alpha = 0.05\n",
    "\n",
    "# Tomando uma decisão com base no valor de p\n",
    "if p_val < alpha:\n",
    "    print(\"Rejeitamos a hipótese nula. Há uma diferença estatisticamente significativa entre as amostras.\")\n",
    "else:\n",
    "    print(\"Não rejeitamos a hipótese nula. Não há diferença estatisticamente significativa entre as amostras.\")"
   ]
  },
  {
   "cell_type": "markdown",
   "metadata": {},
   "source": [
    "<div class=\"alert alert-block alert-success\">\n",
    "<b> Comentário do revisor: </b> <a class=\"tocSkip\"></a>\n",
    "\n",
    "Correto\n",
    "</div>\n"
   ]
  },
  {
   "cell_type": "markdown",
   "metadata": {},
   "source": [
    "Vamos criar o teste para todas as etapas do funil para melhoria do processo para a base new_df"
   ]
  },
  {
   "cell_type": "code",
   "execution_count": 372,
   "metadata": {},
   "outputs": [
    {
     "name": "stdout",
     "output_type": "stream",
     "text": [
      "Group: 246, Event Count: 2454, Total Count: 2487, Proportion: 0.9867310012062727\n",
      "Group: 247, Event Count: 2449, Total Count: 2487, Proportion: 0.9847205468435867\n",
      "Group: 248, Event Count: 2446, Total Count: 2487, Proportion: 0.983514274225975\n",
      "\n",
      "Event: MainScreenAppear, Z-statistic: 0.5976718121891912, P-value: 0.5500589372572404\n",
      "Para o evento MainScreenAppear, não rejeitamos a hipótese nula. Não há diferença estatisticamente significativa entre as amostras.\n",
      "Group: 246, Event Count: 1545, Total Count: 2487, Proportion: 0.6212303980699638\n",
      "Group: 247, Event Count: 1496, Total Count: 2487, Proportion: 0.6015279453156414\n",
      "Group: 248, Event Count: 1485, Total Count: 2487, Proportion: 0.5971049457177322\n",
      "\n",
      "Event: OffersScreenAppear, Z-statistic: 1.425360874395736, P-value: 0.15405291178233188\n",
      "Para o evento OffersScreenAppear, não rejeitamos a hipótese nula. Não há diferença estatisticamente significativa entre as amostras.\n",
      "Group: 246, Event Count: 1270, Total Count: 2487, Proportion: 0.5106554081222356\n",
      "Group: 247, Event Count: 1207, Total Count: 2487, Proportion: 0.48532368315239244\n",
      "Group: 248, Event Count: 1187, Total Count: 2487, Proportion: 0.4772818657016486\n",
      "\n",
      "Event: CartScreenAppear, Z-statistic: 1.7865746418996338, P-value: 0.07400626324646048\n",
      "Para o evento CartScreenAppear, não rejeitamos a hipótese nula. Não há diferença estatisticamente significativa entre as amostras.\n",
      "Group: 246, Event Count: 1202, Total Count: 2487, Proportion: 0.48331322878970645\n",
      "Group: 247, Event Count: 1127, Total Count: 2487, Proportion: 0.453156413349417\n",
      "Group: 248, Event Count: 1134, Total Count: 2487, Proportion: 0.4559710494571773\n",
      "\n",
      "Event: PaymentScreenSuccessful, Z-statistic: 2.1311625280060507, P-value: 0.03307575489903404\n",
      "Para o evento PaymentScreenSuccessful, rejeitamos a hipótese nula. Há uma diferença estatisticamente significativa entre as amostras.\n",
      "Group: 246, Event Count: 278, Total Count: 2487, Proportion: 0.11178126256533977\n",
      "Group: 247, Event Count: 279, Total Count: 2487, Proportion: 0.11218335343787696\n",
      "Group: 248, Event Count: 273, Total Count: 2487, Proportion: 0.1097708082026538\n",
      "\n",
      "Event: Tutorial, Z-statistic: -0.044963653589791076, P-value: 0.9641362798710714\n",
      "Para o evento Tutorial, não rejeitamos a hipótese nula. Não há diferença estatisticamente significativa entre as amostras.\n"
     ]
    }
   ],
   "source": [
    "# Lista de eventos no funil\n",
    "event_list = ['MainScreenAppear', 'OffersScreenAppear', 'CartScreenAppear', 'PaymentScreenSuccessful', 'Tutorial']\n",
    "\n",
    "# Nível de significância\n",
    "alpha = 0.05\n",
    "\n",
    "# Executar o teste Z para todos os eventos\n",
    "for event in event_list:\n",
    "    z_stat, p_val = run_z_test(df, event, 246, 247)\n",
    "    print(f'\\nEvent: {event}, Z-statistic: {z_stat}, P-value: {p_val}')\n",
    "    if p_val < alpha:\n",
    "        print(f'Para o evento {event}, rejeitamos a hipótese nula. Há uma diferença estatisticamente significativa entre as amostras.')\n",
    "    else:\n",
    "        print(f'Para o evento {event}, não rejeitamos a hipótese nula. Não há diferença estatisticamente significativa entre as amostras.')\n"
   ]
  },
  {
   "cell_type": "markdown",
   "metadata": {},
   "source": [
    "<div class=\"alert alert-block alert-success\">\n",
    "<b> Comentário do revisor: </b> <a class=\"tocSkip\"></a>\n",
    "\n",
    "Correto\n",
    "</div>\n"
   ]
  },
  {
   "cell_type": "markdown",
   "metadata": {},
   "source": [
    "**Conclusão**\n",
    "\n",
    "De acordo com os resultados dos testes Z realizados para cada evento, parece que não há diferença estatisticamente significativa na proporção de eventos entre os grupos de controle 246 e 247 para a maioria dos eventos: 'MainScreenAppear', 'OffersScreenAppear', 'CartScreenAppear' e 'Tutorial'. Isso indica que os grupos de controle estão se comportando de maneira semelhante para esses eventos, como esperado.\n",
    "\n",
    "No entanto, para o evento 'PaymentScreenSuccessful', o teste Z mostra uma diferença estatisticamente significativa entre os dois grupos de controle. Isso é uma descoberta notável e sugere que há algo diferente entre os grupos de controle que afeta a proporção desse evento. Pode ser necessário investigar mais para entender o que está causando essa diferença.\n",
    "\n",
    "Ao analisar esses resultados, é importante lembrar que a realização de múltiplos testes de hipóteses aumenta a probabilidade de falsos positivos (erro do Tipo I). Assim, o resultado do evento 'PaymentScreenSuccessful' pode ser um falso positivo. A correção de Bonferroni é uma abordagem que pode ser usada para ajustar o nível de significância para reduzir a chance de falsos positivos ao realizar múltiplos testes de hipóteses.\n",
    "\n",
    "Em resumo, os resultados do teste Z indicam que os grupos de controle 246 e 247 estão geralmente se comportando de maneira semelhante, com a possível exceção do evento 'PaymentScreenSuccessful'. No entanto, mais investigação seria necessária para confirmar e entender essa diferença.\n",
    "\n",
    "Iremos aplicar abaixo a correção de Bonferroni para entender qual seria o nível de significância correto para o teste estatístico, evitando falsos positivos."
   ]
  },
  {
   "cell_type": "markdown",
   "metadata": {},
   "source": [
    "<div class=\"alert alert-block alert-success\">\n",
    "<b> Comentário do revisor: </b> <a class=\"tocSkip\"></a>\n",
    "\n",
    "Excelente!!\n",
    "</div>\n"
   ]
  },
  {
   "cell_type": "code",
   "execution_count": 373,
   "metadata": {},
   "outputs": [
    {
     "name": "stdout",
     "output_type": "stream",
     "text": [
      "Group: 246, Event Count: 2454, Total Count: 2487, Proportion: 0.9867310012062727\n",
      "Group: 247, Event Count: 2449, Total Count: 2487, Proportion: 0.9847205468435867\n",
      "\n",
      "Event: MainScreenAppear, Z-statistic: 0.5976718121891912, P-value: 0.5500589372572404\n",
      "Para o evento MainScreenAppear, não rejeitamos a hipótese nula. Não há diferença estatisticamente significativa entre as amostras.\n",
      "Group: 246, Event Count: 1545, Total Count: 2487, Proportion: 0.6212303980699638\n",
      "Group: 247, Event Count: 1496, Total Count: 2487, Proportion: 0.6015279453156414\n",
      "\n",
      "Event: OffersScreenAppear, Z-statistic: 1.425360874395736, P-value: 0.15405291178233188\n",
      "Para o evento OffersScreenAppear, não rejeitamos a hipótese nula. Não há diferença estatisticamente significativa entre as amostras.\n",
      "Group: 246, Event Count: 1270, Total Count: 2487, Proportion: 0.5106554081222356\n",
      "Group: 247, Event Count: 1207, Total Count: 2487, Proportion: 0.48532368315239244\n",
      "\n",
      "Event: CartScreenAppear, Z-statistic: 1.7865746418996338, P-value: 0.07400626324646048\n",
      "Para o evento CartScreenAppear, não rejeitamos a hipótese nula. Não há diferença estatisticamente significativa entre as amostras.\n",
      "Group: 246, Event Count: 1202, Total Count: 2487, Proportion: 0.48331322878970645\n",
      "Group: 247, Event Count: 1127, Total Count: 2487, Proportion: 0.453156413349417\n",
      "\n",
      "Event: PaymentScreenSuccessful, Z-statistic: 2.1311625280060507, P-value: 0.03307575489903404\n",
      "Para o evento PaymentScreenSuccessful, não rejeitamos a hipótese nula. Não há diferença estatisticamente significativa entre as amostras.\n",
      "Group: 246, Event Count: 278, Total Count: 2487, Proportion: 0.11178126256533977\n",
      "Group: 247, Event Count: 279, Total Count: 2487, Proportion: 0.11218335343787696\n",
      "\n",
      "Event: Tutorial, Z-statistic: -0.044963653589791076, P-value: 0.9641362798710714\n",
      "Para o evento Tutorial, não rejeitamos a hipótese nula. Não há diferença estatisticamente significativa entre as amostras.\n"
     ]
    }
   ],
   "source": [
    "# Lista de eventos no funil\n",
    "event_list = ['MainScreenAppear', 'OffersScreenAppear', 'CartScreenAppear', 'PaymentScreenSuccessful', 'Tutorial']\n",
    "\n",
    "# Nível de significância\n",
    "alpha = 0.05\n",
    "\n",
    "# Ajuste de Bonferroni\n",
    "bonferroni_alpha = alpha / len(event_list)\n",
    "\n",
    "# Executar o teste Z para todos os eventos\n",
    "for event in event_list:\n",
    "    z_stat, p_val = run_z_test(new_df, event, 246, 247)\n",
    "    print(f'\\nEvent: {event}, Z-statistic: {z_stat}, P-value: {p_val}')\n",
    "    if p_val < bonferroni_alpha:\n",
    "        print(f'Para o evento {event}, rejeitamos a hipótese nula. Há uma diferença estatisticamente significativa entre as amostras.')\n",
    "    else:\n",
    "        print(f'Para o evento {event}, não rejeitamos a hipótese nula. Não há diferença estatisticamente significativa entre as amostras.')\n"
   ]
  },
  {
   "cell_type": "markdown",
   "metadata": {},
   "source": [
    "<div class=\"alert alert-block alert-success\">\n",
    "<b> Comentário do revisor: </b> <a class=\"tocSkip\"></a>\n",
    "\n",
    "Correto\n",
    "</div>\n"
   ]
  },
  {
   "cell_type": "markdown",
   "metadata": {},
   "source": [
    "**Conclusão**\n",
    "\n",
    "Após a realização de testes de hipóteses usando o teste Z e o ajuste de Bonferroni, os resultados indicam que não há diferença estatisticamente significativa entre os grupos 246 e 247 para qualquer um dos eventos listados. \n",
    "\n",
    "Isso significa que, para os eventos 'MainScreenAppear', 'OffersScreenAppear', 'CartScreenAppear', 'PaymentScreenSuccessful' e 'Tutorial', a proporção de ocorrências entre os dois grupos é estatisticamente semelhante.\n",
    "\n",
    "Estes resultados apoiam a conclusão de que as mudanças ou variações entre os grupos de controle (246 e 247) não produziram um impacto significativo sobre o comportamento do usuário em relação a estes eventos. Portanto, podemos considerar que as condições entre esses grupos são consistentes e que qualquer diferença significativa observada em comparação com outros grupos pode ser atribuída a variações nas condições experimentais, e não a variações intrínsecas entre os grupos de controle.\n",
    "\n",
    "A falta de diferenças significativas também sugere que o experimento foi bem controlado e que os grupos de controle são efetivamente equivalentes para os fins do estudo, validando a configuração experimental.\n",
    "\n",
    "É importante citar que após a correção o falso positivo pode ser observado. Isso é de extrema importância, pois caso não tivessemos aplicado o teste poderia ter sido jogado fora. Isso geraria custo operacional e tempo de teste, gerando grande problema para a operação, análises e stakeholders."
   ]
  },
  {
   "cell_type": "markdown",
   "metadata": {},
   "source": [
    "<div class=\"alert alert-block alert-success\">\n",
    "<b> Comentário do revisor: </b> <a class=\"tocSkip\"></a>\n",
    "\n",
    "Correto\n",
    "</div>\n"
   ]
  },
  {
   "cell_type": "markdown",
   "metadata": {},
   "source": [
    "#### **Teste comparativo entre grupos de controle de grupo 248**\n",
    "\n",
    "Vamos utilizar a correção de Bonferroni para mitigar riscos de falsos negativos como visto anteriormente."
   ]
  },
  {
   "cell_type": "code",
   "execution_count": 374,
   "metadata": {},
   "outputs": [
    {
     "name": "stdout",
     "output_type": "stream",
     "text": [
      "Group: 246, Event Count: 2454, Total Count: 2487, Proportion: 0.9867310012062727\n",
      "Group: 247, Event Count: 2449, Total Count: 2487, Proportion: 0.9847205468435867\n",
      "Group: 248, Event Count: 2446, Total Count: 2487, Proportion: 0.983514274225975\n",
      "\n",
      "Event: MainScreenAppear, Z-statistic: 0.9369771018305106, P-value: 0.3487703366074256\n",
      "Para o evento MainScreenAppear, não rejeitamos a hipótese nula. Não há diferença estatisticamente significativa entre as amostras.\n",
      "Group: 246, Event Count: 1545, Total Count: 2487, Proportion: 0.6212303980699638\n",
      "Group: 247, Event Count: 1496, Total Count: 2487, Proportion: 0.6015279453156414\n",
      "Group: 248, Event Count: 1485, Total Count: 2487, Proportion: 0.5971049457177322\n",
      "\n",
      "Event: OffersScreenAppear, Z-statistic: 1.7435511646444577, P-value: 0.08123738518295906\n",
      "Para o evento OffersScreenAppear, não rejeitamos a hipótese nula. Não há diferença estatisticamente significativa entre as amostras.\n",
      "Group: 246, Event Count: 1270, Total Count: 2487, Proportion: 0.5106554081222356\n",
      "Group: 247, Event Count: 1207, Total Count: 2487, Proportion: 0.48532368315239244\n",
      "Group: 248, Event Count: 1187, Total Count: 2487, Proportion: 0.4772818657016486\n",
      "\n",
      "Event: CartScreenAppear, Z-statistic: 2.353893430504669, P-value: 0.01857793640868735\n",
      "Para o evento CartScreenAppear, não rejeitamos a hipótese nula. Não há diferença estatisticamente significativa entre as amostras.\n",
      "Group: 246, Event Count: 1202, Total Count: 2487, Proportion: 0.48331322878970645\n",
      "Group: 247, Event Count: 1127, Total Count: 2487, Proportion: 0.453156413349417\n",
      "Group: 248, Event Count: 1134, Total Count: 2487, Proportion: 0.4559710494571773\n",
      "\n",
      "Event: PaymentScreenSuccessful, Z-statistic: 1.931914883663609, P-value: 0.05337001241756042\n",
      "Para o evento PaymentScreenSuccessful, não rejeitamos a hipótese nula. Não há diferença estatisticamente significativa entre as amostras.\n",
      "Group: 246, Event Count: 278, Total Count: 2487, Proportion: 0.11178126256533977\n",
      "Group: 247, Event Count: 279, Total Count: 2487, Proportion: 0.11218335343787696\n",
      "Group: 248, Event Count: 273, Total Count: 2487, Proportion: 0.1097708082026538\n",
      "\n",
      "Event: Tutorial, Z-statistic: 0.2258856414872956, P-value: 0.8212903656596003\n",
      "Para o evento Tutorial, não rejeitamos a hipótese nula. Não há diferença estatisticamente significativa entre as amostras.\n"
     ]
    }
   ],
   "source": [
    "# Lista de eventos no funil\n",
    "event_list = ['MainScreenAppear', 'OffersScreenAppear', 'CartScreenAppear', 'PaymentScreenSuccessful', 'Tutorial']\n",
    "\n",
    "# Nível de significância\n",
    "alpha = 0.05\n",
    "\n",
    "# Ajuste de Bonferroni\n",
    "bonferroni_alpha = alpha / len(event_list)\n",
    "\n",
    "# Executar o teste Z para todos os eventos\n",
    "for event in event_list:\n",
    "    z_stat, p_val = run_z_test(df, event, 246, 248)\n",
    "    print(f'\\nEvent: {event}, Z-statistic: {z_stat}, P-value: {p_val}')\n",
    "    if p_val < bonferroni_alpha:\n",
    "        print(f'Para o evento {event}, rejeitamos a hipótese nula. Há uma diferença estatisticamente significativa entre as amostras.')\n",
    "    else:\n",
    "        print(f'Para o evento {event}, não rejeitamos a hipótese nula. Não há diferença estatisticamente significativa entre as amostras.')\n"
   ]
  },
  {
   "cell_type": "markdown",
   "metadata": {},
   "source": [
    "<div class=\"alert alert-block alert-success\">\n",
    "<b> Comentário do revisor: </b> <a class=\"tocSkip\"></a>\n",
    "\n",
    "Correto\n",
    "</div>\n"
   ]
  },
  {
   "cell_type": "markdown",
   "metadata": {},
   "source": [
    "**Teste para 247 e 248**"
   ]
  },
  {
   "cell_type": "code",
   "execution_count": 376,
   "metadata": {},
   "outputs": [
    {
     "name": "stdout",
     "output_type": "stream",
     "text": [
      "Group: 246, Event Count: 2454, Total Count: 2487, Proportion: 0.9867310012062727\n",
      "Group: 247, Event Count: 2449, Total Count: 2487, Proportion: 0.9847205468435867\n",
      "Group: 248, Event Count: 2446, Total Count: 2487, Proportion: 0.983514274225975\n",
      "\n",
      "Event: MainScreenAppear, Z-statistic: 0.3402391239412321, P-value: 0.7336764571495131\n",
      "Para o evento MainScreenAppear, não rejeitamos a hipótese nula. Não há diferença estatisticamente significativa entre as amostras.\n",
      "Group: 246, Event Count: 1545, Total Count: 2487, Proportion: 0.6212303980699638\n",
      "Group: 247, Event Count: 1496, Total Count: 2487, Proportion: 0.6015279453156414\n",
      "Group: 248, Event Count: 1485, Total Count: 2487, Proportion: 0.5971049457177322\n",
      "\n",
      "Event: OffersScreenAppear, Z-statistic: 0.3182811644318718, P-value: 0.7502716706147021\n",
      "Para o evento OffersScreenAppear, não rejeitamos a hipótese nula. Não há diferença estatisticamente significativa entre as amostras.\n",
      "Group: 246, Event Count: 1270, Total Count: 2487, Proportion: 0.5106554081222356\n",
      "Group: 247, Event Count: 1207, Total Count: 2487, Proportion: 0.48532368315239244\n",
      "Group: 248, Event Count: 1187, Total Count: 2487, Proportion: 0.4772818657016486\n",
      "\n",
      "Event: CartScreenAppear, Z-statistic: 0.567558928482861, P-value: 0.570334502231505\n",
      "Para o evento CartScreenAppear, não rejeitamos a hipótese nula. Não há diferença estatisticamente significativa entre as amostras.\n",
      "Group: 246, Event Count: 1202, Total Count: 2487, Proportion: 0.48331322878970645\n",
      "Group: 247, Event Count: 1127, Total Count: 2487, Proportion: 0.453156413349417\n",
      "Group: 248, Event Count: 1134, Total Count: 2487, Proportion: 0.4559710494571773\n",
      "\n",
      "Event: PaymentScreenSuccessful, Z-statistic: -0.19933141624786943, P-value: 0.8420035056271034\n",
      "Para o evento PaymentScreenSuccessful, não rejeitamos a hipótese nula. Não há diferença estatisticamente significativa entre as amostras.\n",
      "Group: 246, Event Count: 278, Total Count: 2487, Proportion: 0.11178126256533977\n",
      "Group: 247, Event Count: 279, Total Count: 2487, Proportion: 0.11218335343787696\n",
      "Group: 248, Event Count: 273, Total Count: 2487, Proportion: 0.1097708082026538\n",
      "\n",
      "Event: Tutorial, Z-statistic: 0.27084775044861, P-value: 0.7865081324303871\n",
      "Para o evento Tutorial, não rejeitamos a hipótese nula. Não há diferença estatisticamente significativa entre as amostras.\n"
     ]
    }
   ],
   "source": [
    "# Lista de eventos no funil\n",
    "event_list = ['MainScreenAppear', 'OffersScreenAppear', 'CartScreenAppear', 'PaymentScreenSuccessful', 'Tutorial']\n",
    "\n",
    "# Nível de significância\n",
    "alpha = 0.05\n",
    "\n",
    "# Ajuste de Bonferroni\n",
    "bonferroni_alpha = alpha / len(event_list)\n",
    "\n",
    "# Executar o teste Z para todos os eventos\n",
    "for event in event_list:\n",
    "    z_stat, p_val = run_z_test(df, event, 247, 248)\n",
    "    print(f'\\nEvent: {event}, Z-statistic: {z_stat}, P-value: {p_val}')\n",
    "    if p_val < bonferroni_alpha:\n",
    "        print(f'Para o evento {event}, rejeitamos a hipótese nula. Há uma diferença estatisticamente significativa entre as amostras.')\n",
    "    else:\n",
    "        print(f'Para o evento {event}, não rejeitamos a hipótese nula. Não há diferença estatisticamente significativa entre as amostras.')\n"
   ]
  },
  {
   "cell_type": "markdown",
   "metadata": {},
   "source": [
    "<div class=\"alert alert-block alert-success\">\n",
    "<b> Comentário do revisor: </b> <a class=\"tocSkip\"></a>\n",
    "\n",
    "Correto\n",
    "</div>\n"
   ]
  },
  {
   "cell_type": "markdown",
   "metadata": {},
   "source": [
    "**Conclusão**\n",
    "\n",
    "Com base nos resultados dos testes estatísticos, podemos concluir o seguinte:\n",
    "\n",
    "1. Para todos os eventos testados ('MainScreenAppear', 'OffersScreenAppear', 'CartScreenAppear', 'PaymentScreenSuccessful', 'Tutorial'), não foi encontrada diferença estatisticamente significativa entre os grupos 246, 247 e 248. Isto é evidenciado pelos valores de p que são maiores que o valor de alpha ajustado pela correção de Bonferroni em todas as comparações.\n",
    "\n",
    "2. Essa falta de diferença estatisticamente significativa sugere que não há diferenças no comportamento dos usuários entre os três grupos para nenhum dos eventos em análise. Em outras palavras, os grupos estão agindo de maneira semelhante em todas as etapas do funil de eventos.\n",
    "\n",
    "3. Portanto, as intervenções ou diferenças entre os grupos, se existirem, não parecem estar afetando o comportamento dos usuários em nenhum dos eventos testados. \n",
    "\n",
    "4. Vale a pena notar que a correção de Bonferroni é uma abordagem conservadora que reduz a probabilidade de falsos positivos (erro Tipo I). No entanto, aumenta a probabilidade de falsos negativos (erro Tipo II), o que significa que pode haver diferenças entre os grupos que o teste não detectou devido ao ajuste do valor de alpha.\n",
    "\n",
    "5. Para um entendimento mais preciso e robusto, pode-se considerar a realização de outros testes estatísticos ou a investigação de outros potenciais indicadores de comportamento do usuário. Além disso, é sempre útil explorar as limitações dos dados, as suposições do teste e a possibilidade de variáveis de confusão.\n",
    "\n",
    "Essas conclusões são baseadas na análise estatística dos dados e devem ser complementadas com conhecimentos de domínio e análises qualitativas para um entendimento mais completo. \n",
    "\n",
    "Se realizou 20 testes estatísticos para os diferentes grupos e diferentes estágios do funil de conversão para observar se as mudanças fizeram, de fato, algum efeito para a conversão de clientes. Apesar disso, não observou-se mudanças efetivas.\n",
    "\n",
    "Apesar disso, o alpha ou nível de significância utilizado foi o padrão de 0,05 e observou-se, ainda, que foi necessário a correção de Bonferroni para evitar a criação de falsos positivos em nossa amostra. O nível de significância de 0,05 é o padrão. \n",
    "\n",
    "Iremos realizar testes adicionais com um nível de significância maior e com a correção de Bonferroni e observar o que aconteceria nesses casos."
   ]
  },
  {
   "cell_type": "markdown",
   "metadata": {},
   "source": [
    "<div class=\"alert alert-block alert-success\">\n",
    "<b> Comentário do revisor: </b> <a class=\"tocSkip\"></a>\n",
    "\n",
    "Correto\n",
    "</div>\n"
   ]
  },
  {
   "cell_type": "markdown",
   "metadata": {},
   "source": [
    "#### Adicional, teste de significância"
   ]
  },
  {
   "cell_type": "code",
   "execution_count": 378,
   "metadata": {},
   "outputs": [
    {
     "name": "stdout",
     "output_type": "stream",
     "text": [
      "Group: 246, Event Count: 2454, Total Count: 2487, Proportion: 0.9867310012062727\n",
      "Group: 247, Event Count: 2449, Total Count: 2487, Proportion: 0.9847205468435867\n",
      "Group: 248, Event Count: 2446, Total Count: 2487, Proportion: 0.983514274225975\n",
      "\n",
      "Event: MainScreenAppear, Z-statistic: 0.5976718121891912, P-value: 0.5500589372572404\n",
      "Para o evento MainScreenAppear, não rejeitamos a hipótese nula. Não há diferença estatisticamente significativa entre as amostras.\n",
      "Group: 246, Event Count: 1545, Total Count: 2487, Proportion: 0.6212303980699638\n",
      "Group: 247, Event Count: 1496, Total Count: 2487, Proportion: 0.6015279453156414\n",
      "Group: 248, Event Count: 1485, Total Count: 2487, Proportion: 0.5971049457177322\n",
      "\n",
      "Event: OffersScreenAppear, Z-statistic: 1.425360874395736, P-value: 0.15405291178233188\n",
      "Para o evento OffersScreenAppear, não rejeitamos a hipótese nula. Não há diferença estatisticamente significativa entre as amostras.\n",
      "Group: 246, Event Count: 1270, Total Count: 2487, Proportion: 0.5106554081222356\n",
      "Group: 247, Event Count: 1207, Total Count: 2487, Proportion: 0.48532368315239244\n",
      "Group: 248, Event Count: 1187, Total Count: 2487, Proportion: 0.4772818657016486\n",
      "\n",
      "Event: CartScreenAppear, Z-statistic: 1.7865746418996338, P-value: 0.07400626324646048\n",
      "Para o evento CartScreenAppear, não rejeitamos a hipótese nula. Não há diferença estatisticamente significativa entre as amostras.\n",
      "Group: 246, Event Count: 1202, Total Count: 2487, Proportion: 0.48331322878970645\n",
      "Group: 247, Event Count: 1127, Total Count: 2487, Proportion: 0.453156413349417\n",
      "Group: 248, Event Count: 1134, Total Count: 2487, Proportion: 0.4559710494571773\n",
      "\n",
      "Event: PaymentScreenSuccessful, Z-statistic: 2.1311625280060507, P-value: 0.03307575489903404\n",
      "Para o evento PaymentScreenSuccessful, não rejeitamos a hipótese nula. Não há diferença estatisticamente significativa entre as amostras.\n",
      "Group: 246, Event Count: 278, Total Count: 2487, Proportion: 0.11178126256533977\n",
      "Group: 247, Event Count: 279, Total Count: 2487, Proportion: 0.11218335343787696\n",
      "Group: 248, Event Count: 273, Total Count: 2487, Proportion: 0.1097708082026538\n",
      "\n",
      "Event: Tutorial, Z-statistic: -0.044963653589791076, P-value: 0.9641362798710714\n",
      "Para o evento Tutorial, não rejeitamos a hipótese nula. Não há diferença estatisticamente significativa entre as amostras.\n"
     ]
    }
   ],
   "source": [
    "# Lista de eventos no funil\n",
    "event_list = ['MainScreenAppear', 'OffersScreenAppear', 'CartScreenAppear', 'PaymentScreenSuccessful', 'Tutorial']\n",
    "\n",
    "# Nível de significância\n",
    "alpha = 0.1\n",
    "\n",
    "# Ajuste de Bonferroni\n",
    "bonferroni_alpha = alpha / len(event_list)\n",
    "\n",
    "# Executar o teste Z para todos os eventos\n",
    "for event in event_list:\n",
    "    z_stat, p_val = run_z_test(df, event, 246, 247)\n",
    "    print(f'\\nEvent: {event}, Z-statistic: {z_stat}, P-value: {p_val}')\n",
    "    if p_val < bonferroni_alpha:\n",
    "        print(f'Para o evento {event}, rejeitamos a hipótese nula. Há uma diferença estatisticamente significativa entre as amostras.')\n",
    "    else:\n",
    "        print(f'Para o evento {event}, não rejeitamos a hipótese nula. Não há diferença estatisticamente significativa entre as amostras.')"
   ]
  },
  {
   "cell_type": "code",
   "execution_count": 379,
   "metadata": {},
   "outputs": [
    {
     "name": "stdout",
     "output_type": "stream",
     "text": [
      "Group: 246, Event Count: 2454, Total Count: 2487, Proportion: 0.9867310012062727\n",
      "Group: 247, Event Count: 2449, Total Count: 2487, Proportion: 0.9847205468435867\n",
      "Group: 248, Event Count: 2446, Total Count: 2487, Proportion: 0.983514274225975\n",
      "\n",
      "Event: MainScreenAppear, Z-statistic: 0.9369771018305106, P-value: 0.3487703366074256\n",
      "Para o evento MainScreenAppear, não rejeitamos a hipótese nula. Não há diferença estatisticamente significativa entre as amostras.\n",
      "Group: 246, Event Count: 1545, Total Count: 2487, Proportion: 0.6212303980699638\n",
      "Group: 247, Event Count: 1496, Total Count: 2487, Proportion: 0.6015279453156414\n",
      "Group: 248, Event Count: 1485, Total Count: 2487, Proportion: 0.5971049457177322\n",
      "\n",
      "Event: OffersScreenAppear, Z-statistic: 1.7435511646444577, P-value: 0.08123738518295906\n",
      "Para o evento OffersScreenAppear, não rejeitamos a hipótese nula. Não há diferença estatisticamente significativa entre as amostras.\n",
      "Group: 246, Event Count: 1270, Total Count: 2487, Proportion: 0.5106554081222356\n",
      "Group: 247, Event Count: 1207, Total Count: 2487, Proportion: 0.48532368315239244\n",
      "Group: 248, Event Count: 1187, Total Count: 2487, Proportion: 0.4772818657016486\n",
      "\n",
      "Event: CartScreenAppear, Z-statistic: 2.353893430504669, P-value: 0.01857793640868735\n",
      "Para o evento CartScreenAppear, rejeitamos a hipótese nula. Há uma diferença estatisticamente significativa entre as amostras.\n",
      "Group: 246, Event Count: 1202, Total Count: 2487, Proportion: 0.48331322878970645\n",
      "Group: 247, Event Count: 1127, Total Count: 2487, Proportion: 0.453156413349417\n",
      "Group: 248, Event Count: 1134, Total Count: 2487, Proportion: 0.4559710494571773\n",
      "\n",
      "Event: PaymentScreenSuccessful, Z-statistic: 1.931914883663609, P-value: 0.05337001241756042\n",
      "Para o evento PaymentScreenSuccessful, não rejeitamos a hipótese nula. Não há diferença estatisticamente significativa entre as amostras.\n",
      "Group: 246, Event Count: 278, Total Count: 2487, Proportion: 0.11178126256533977\n",
      "Group: 247, Event Count: 279, Total Count: 2487, Proportion: 0.11218335343787696\n",
      "Group: 248, Event Count: 273, Total Count: 2487, Proportion: 0.1097708082026538\n",
      "\n",
      "Event: Tutorial, Z-statistic: 0.2258856414872956, P-value: 0.8212903656596003\n",
      "Para o evento Tutorial, não rejeitamos a hipótese nula. Não há diferença estatisticamente significativa entre as amostras.\n"
     ]
    }
   ],
   "source": [
    "# Lista de eventos no funil\n",
    "event_list = ['MainScreenAppear', 'OffersScreenAppear', 'CartScreenAppear', 'PaymentScreenSuccessful', 'Tutorial']\n",
    "\n",
    "# Nível de significância\n",
    "alpha = 0.1\n",
    "\n",
    "# Ajuste de Bonferroni\n",
    "bonferroni_alpha = alpha / len(event_list)\n",
    "\n",
    "# Executar o teste Z para todos os eventos\n",
    "for event in event_list:\n",
    "    z_stat, p_val = run_z_test(df, event, 246, 248)\n",
    "    print(f'\\nEvent: {event}, Z-statistic: {z_stat}, P-value: {p_val}')\n",
    "    if p_val < bonferroni_alpha:\n",
    "        print(f'Para o evento {event}, rejeitamos a hipótese nula. Há uma diferença estatisticamente significativa entre as amostras.')\n",
    "    else:\n",
    "        print(f'Para o evento {event}, não rejeitamos a hipótese nula. Não há diferença estatisticamente significativa entre as amostras.')"
   ]
  },
  {
   "cell_type": "code",
   "execution_count": 380,
   "metadata": {},
   "outputs": [
    {
     "name": "stdout",
     "output_type": "stream",
     "text": [
      "Group: 246, Event Count: 2454, Total Count: 2487, Proportion: 0.9867310012062727\n",
      "Group: 247, Event Count: 2449, Total Count: 2487, Proportion: 0.9847205468435867\n",
      "Group: 248, Event Count: 2446, Total Count: 2487, Proportion: 0.983514274225975\n",
      "\n",
      "Event: MainScreenAppear, Z-statistic: 0.3402391239412321, P-value: 0.7336764571495131\n",
      "Para o evento MainScreenAppear, não rejeitamos a hipótese nula. Não há diferença estatisticamente significativa entre as amostras.\n",
      "Group: 246, Event Count: 1545, Total Count: 2487, Proportion: 0.6212303980699638\n",
      "Group: 247, Event Count: 1496, Total Count: 2487, Proportion: 0.6015279453156414\n",
      "Group: 248, Event Count: 1485, Total Count: 2487, Proportion: 0.5971049457177322\n",
      "\n",
      "Event: OffersScreenAppear, Z-statistic: 0.3182811644318718, P-value: 0.7502716706147021\n",
      "Para o evento OffersScreenAppear, não rejeitamos a hipótese nula. Não há diferença estatisticamente significativa entre as amostras.\n",
      "Group: 246, Event Count: 1270, Total Count: 2487, Proportion: 0.5106554081222356\n",
      "Group: 247, Event Count: 1207, Total Count: 2487, Proportion: 0.48532368315239244\n",
      "Group: 248, Event Count: 1187, Total Count: 2487, Proportion: 0.4772818657016486\n",
      "\n",
      "Event: CartScreenAppear, Z-statistic: 0.567558928482861, P-value: 0.570334502231505\n",
      "Para o evento CartScreenAppear, não rejeitamos a hipótese nula. Não há diferença estatisticamente significativa entre as amostras.\n",
      "Group: 246, Event Count: 1202, Total Count: 2487, Proportion: 0.48331322878970645\n",
      "Group: 247, Event Count: 1127, Total Count: 2487, Proportion: 0.453156413349417\n",
      "Group: 248, Event Count: 1134, Total Count: 2487, Proportion: 0.4559710494571773\n",
      "\n",
      "Event: PaymentScreenSuccessful, Z-statistic: -0.19933141624786943, P-value: 0.8420035056271034\n",
      "Para o evento PaymentScreenSuccessful, não rejeitamos a hipótese nula. Não há diferença estatisticamente significativa entre as amostras.\n",
      "Group: 246, Event Count: 278, Total Count: 2487, Proportion: 0.11178126256533977\n",
      "Group: 247, Event Count: 279, Total Count: 2487, Proportion: 0.11218335343787696\n",
      "Group: 248, Event Count: 273, Total Count: 2487, Proportion: 0.1097708082026538\n",
      "\n",
      "Event: Tutorial, Z-statistic: 0.27084775044861, P-value: 0.7865081324303871\n",
      "Para o evento Tutorial, não rejeitamos a hipótese nula. Não há diferença estatisticamente significativa entre as amostras.\n"
     ]
    }
   ],
   "source": [
    "# Lista de eventos no funil\n",
    "event_list = ['MainScreenAppear', 'OffersScreenAppear', 'CartScreenAppear', 'PaymentScreenSuccessful', 'Tutorial']\n",
    "\n",
    "# Nível de significância\n",
    "alpha = 0.1\n",
    "\n",
    "# Ajuste de Bonferroni\n",
    "bonferroni_alpha = alpha / len(event_list)\n",
    "\n",
    "# Executar o teste Z para todos os eventos\n",
    "for event in event_list:\n",
    "    z_stat, p_val = run_z_test(df, event, 247, 248)\n",
    "    print(f'\\nEvent: {event}, Z-statistic: {z_stat}, P-value: {p_val}')\n",
    "    if p_val < bonferroni_alpha:\n",
    "        print(f'Para o evento {event}, rejeitamos a hipótese nula. Há uma diferença estatisticamente significativa entre as amostras.')\n",
    "    else:\n",
    "        print(f'Para o evento {event}, não rejeitamos a hipótese nula. Não há diferença estatisticamente significativa entre as amostras.')"
   ]
  },
  {
   "cell_type": "markdown",
   "metadata": {},
   "source": [
    "**Conclusão**\n",
    "\n",
    "Pode ser observado que para a maior parte dos testes não há diferença estatística entre os grupos e para os diferentes estágios do Funil. \n",
    "\n",
    "Isso ocorre, também, para o grupo de controle 246 e 247 que não demonstraram diferenças relevantes nesse aspecto, demonstrando que podem ser confiáveis. Apesar disso, ao comparar o grupo 246 e 248 temos a única diferença relativa no estágio `CartScreenAppear` entre esses dois grupos, mas ao realizar o teste entre 247 e 248 não apresentam diferenças significativas, isso demonstra que pode ser um falso negativo e como estamos fazendo os testes em duplicatas com um teste A/A podemos dizer com maior grau de precisão que pode ser um erro envolvido no processo.\n",
    "\n",
    "O nível de significância de 0,1 demonstrou ser de certa maneira efetivo conjunta com a aplicação de Bonferroni, mas apresentou falsos negativos, sendo assim, o correto seria manter nosso alpha em 0,05.\n",
    "\n",
    "Como conclusão final, podemos perceber que não houve diferenças significativas entre os diferentes testes realizados."
   ]
  },
  {
   "cell_type": "markdown",
   "metadata": {},
   "source": [
    "<div class=\"alert alert-block alert-success\">\n",
    "<b> Comentário do revisor: </b> <a class=\"tocSkip\"></a>\n",
    "\n",
    "Correto\n",
    "</div>\n"
   ]
  }
 ],
 "metadata": {
  "kernelspec": {
   "display_name": "Python 3",
   "language": "python",
   "name": "python3"
  },
  "language_info": {
   "codemirror_mode": {
    "name": "ipython",
    "version": 3
   },
   "file_extension": ".py",
   "mimetype": "text/x-python",
   "name": "python",
   "nbconvert_exporter": "python",
   "pygments_lexer": "ipython3",
   "version": "3.8.8"
  },
  "toc": {
   "base_numbering": 1,
   "nav_menu": {},
   "number_sections": true,
   "sideBar": true,
   "skip_h1_title": true,
   "title_cell": "Table of Contents",
   "title_sidebar": "Contents",
   "toc_cell": false,
   "toc_position": {},
   "toc_section_display": true,
   "toc_window_display": true
  }
 },
 "nbformat": 4,
 "nbformat_minor": 2
}
